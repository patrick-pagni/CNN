{
  "cells": [
    {
      "cell_type": "markdown",
      "metadata": {
        "id": "YyvWYSFqUr6e"
      },
      "source": [
        "# Neural Networks and Deep Learning - Programming Assignment\n",
        "\n",
        "## Import libraries"
      ]
    },
    {
      "cell_type": "code",
      "execution_count": null,
      "metadata": {
        "colab": {
          "base_uri": "https://localhost:8080/"
        },
        "id": "ZhjqcBFHVKFW",
        "outputId": "f78d79fc-75a0-4cdb-c58a-705f38e24513"
      },
      "outputs": [
        {
          "output_type": "stream",
          "name": "stdout",
          "text": [
            "Requirement already satisfied: torch in /usr/local/lib/python3.10/dist-packages (2.2.1+cu121)\n",
            "Requirement already satisfied: torchvision in /usr/local/lib/python3.10/dist-packages (0.17.1+cu121)\n",
            "Requirement already satisfied: filelock in /usr/local/lib/python3.10/dist-packages (from torch) (3.13.3)\n",
            "Requirement already satisfied: typing-extensions>=4.8.0 in /usr/local/lib/python3.10/dist-packages (from torch) (4.10.0)\n",
            "Requirement already satisfied: sympy in /usr/local/lib/python3.10/dist-packages (from torch) (1.12)\n",
            "Requirement already satisfied: networkx in /usr/local/lib/python3.10/dist-packages (from torch) (3.2.1)\n",
            "Requirement already satisfied: jinja2 in /usr/local/lib/python3.10/dist-packages (from torch) (3.1.3)\n",
            "Requirement already satisfied: fsspec in /usr/local/lib/python3.10/dist-packages (from torch) (2023.6.0)\n",
            "Collecting nvidia-cuda-nvrtc-cu12==12.1.105 (from torch)\n",
            "  Downloading nvidia_cuda_nvrtc_cu12-12.1.105-py3-none-manylinux1_x86_64.whl (23.7 MB)\n",
            "\u001b[2K     \u001b[90m━━━━━━━━━━━━━━━━━━━━━━━━━━━━━━━━━━━━━━━━\u001b[0m \u001b[32m23.7/23.7 MB\u001b[0m \u001b[31m38.2 MB/s\u001b[0m eta \u001b[36m0:00:00\u001b[0m\n",
            "\u001b[?25hCollecting nvidia-cuda-runtime-cu12==12.1.105 (from torch)\n",
            "  Downloading nvidia_cuda_runtime_cu12-12.1.105-py3-none-manylinux1_x86_64.whl (823 kB)\n",
            "\u001b[2K     \u001b[90m━━━━━━━━━━━━━━━━━━━━━━━━━━━━━━━━━━━━━━━━\u001b[0m \u001b[32m823.6/823.6 kB\u001b[0m \u001b[31m54.1 MB/s\u001b[0m eta \u001b[36m0:00:00\u001b[0m\n",
            "\u001b[?25hCollecting nvidia-cuda-cupti-cu12==12.1.105 (from torch)\n",
            "  Downloading nvidia_cuda_cupti_cu12-12.1.105-py3-none-manylinux1_x86_64.whl (14.1 MB)\n",
            "\u001b[2K     \u001b[90m━━━━━━━━━━━━━━━━━━━━━━━━━━━━━━━━━━━━━━━━\u001b[0m \u001b[32m14.1/14.1 MB\u001b[0m \u001b[31m80.4 MB/s\u001b[0m eta \u001b[36m0:00:00\u001b[0m\n",
            "\u001b[?25hCollecting nvidia-cudnn-cu12==8.9.2.26 (from torch)\n",
            "  Downloading nvidia_cudnn_cu12-8.9.2.26-py3-none-manylinux1_x86_64.whl (731.7 MB)\n",
            "\u001b[2K     \u001b[90m━━━━━━━━━━━━━━━━━━━━━━━━━━━━━━━━━━━━━━━━\u001b[0m \u001b[32m731.7/731.7 MB\u001b[0m \u001b[31m2.4 MB/s\u001b[0m eta \u001b[36m0:00:00\u001b[0m\n",
            "\u001b[?25hCollecting nvidia-cublas-cu12==12.1.3.1 (from torch)\n",
            "  Downloading nvidia_cublas_cu12-12.1.3.1-py3-none-manylinux1_x86_64.whl (410.6 MB)\n",
            "\u001b[2K     \u001b[90m━━━━━━━━━━━━━━━━━━━━━━━━━━━━━━━━━━━━━━━━\u001b[0m \u001b[32m410.6/410.6 MB\u001b[0m \u001b[31m3.1 MB/s\u001b[0m eta \u001b[36m0:00:00\u001b[0m\n",
            "\u001b[?25hCollecting nvidia-cufft-cu12==11.0.2.54 (from torch)\n",
            "  Downloading nvidia_cufft_cu12-11.0.2.54-py3-none-manylinux1_x86_64.whl (121.6 MB)\n",
            "\u001b[2K     \u001b[90m━━━━━━━━━━━━━━━━━━━━━━━━━━━━━━━━━━━━━━━━\u001b[0m \u001b[32m121.6/121.6 MB\u001b[0m \u001b[31m13.0 MB/s\u001b[0m eta \u001b[36m0:00:00\u001b[0m\n",
            "\u001b[?25hCollecting nvidia-curand-cu12==10.3.2.106 (from torch)\n",
            "  Downloading nvidia_curand_cu12-10.3.2.106-py3-none-manylinux1_x86_64.whl (56.5 MB)\n",
            "\u001b[2K     \u001b[90m━━━━━━━━━━━━━━━━━━━━━━━━━━━━━━━━━━━━━━━━\u001b[0m \u001b[32m56.5/56.5 MB\u001b[0m \u001b[31m29.7 MB/s\u001b[0m eta \u001b[36m0:00:00\u001b[0m\n",
            "\u001b[?25hCollecting nvidia-cusolver-cu12==11.4.5.107 (from torch)\n",
            "  Downloading nvidia_cusolver_cu12-11.4.5.107-py3-none-manylinux1_x86_64.whl (124.2 MB)\n",
            "\u001b[2K     \u001b[90m━━━━━━━━━━━━━━━━━━━━━━━━━━━━━━━━━━━━━━━━\u001b[0m \u001b[32m124.2/124.2 MB\u001b[0m \u001b[31m5.2 MB/s\u001b[0m eta \u001b[36m0:00:00\u001b[0m\n",
            "\u001b[?25hCollecting nvidia-cusparse-cu12==12.1.0.106 (from torch)\n",
            "  Downloading nvidia_cusparse_cu12-12.1.0.106-py3-none-manylinux1_x86_64.whl (196.0 MB)\n",
            "\u001b[2K     \u001b[90m━━━━━━━━━━━━━━━━━━━━━━━━━━━━━━━━━━━━━━━━\u001b[0m \u001b[32m196.0/196.0 MB\u001b[0m \u001b[31m5.3 MB/s\u001b[0m eta \u001b[36m0:00:00\u001b[0m\n",
            "\u001b[?25hCollecting nvidia-nccl-cu12==2.19.3 (from torch)\n",
            "  Downloading nvidia_nccl_cu12-2.19.3-py3-none-manylinux1_x86_64.whl (166.0 MB)\n",
            "\u001b[2K     \u001b[90m━━━━━━━━━━━━━━━━━━━━━━━━━━━━━━━━━━━━━━━━\u001b[0m \u001b[32m166.0/166.0 MB\u001b[0m \u001b[31m6.1 MB/s\u001b[0m eta \u001b[36m0:00:00\u001b[0m\n",
            "\u001b[?25hCollecting nvidia-nvtx-cu12==12.1.105 (from torch)\n",
            "  Downloading nvidia_nvtx_cu12-12.1.105-py3-none-manylinux1_x86_64.whl (99 kB)\n",
            "\u001b[2K     \u001b[90m━━━━━━━━━━━━━━━━━━━━━━━━━━━━━━━━━━━━━━━━\u001b[0m \u001b[32m99.1/99.1 kB\u001b[0m \u001b[31m15.0 MB/s\u001b[0m eta \u001b[36m0:00:00\u001b[0m\n",
            "\u001b[?25hRequirement already satisfied: triton==2.2.0 in /usr/local/lib/python3.10/dist-packages (from torch) (2.2.0)\n",
            "Collecting nvidia-nvjitlink-cu12 (from nvidia-cusolver-cu12==11.4.5.107->torch)\n",
            "  Downloading nvidia_nvjitlink_cu12-12.4.127-py3-none-manylinux2014_x86_64.whl (21.1 MB)\n",
            "\u001b[2K     \u001b[90m━━━━━━━━━━━━━━━━━━━━━━━━━━━━━━━━━━━━━━━━\u001b[0m \u001b[32m21.1/21.1 MB\u001b[0m \u001b[31m80.4 MB/s\u001b[0m eta \u001b[36m0:00:00\u001b[0m\n",
            "\u001b[?25hRequirement already satisfied: numpy in /usr/local/lib/python3.10/dist-packages (from torchvision) (1.25.2)\n",
            "Requirement already satisfied: pillow!=8.3.*,>=5.3.0 in /usr/local/lib/python3.10/dist-packages (from torchvision) (9.4.0)\n",
            "Requirement already satisfied: MarkupSafe>=2.0 in /usr/local/lib/python3.10/dist-packages (from jinja2->torch) (2.1.5)\n",
            "Requirement already satisfied: mpmath>=0.19 in /usr/local/lib/python3.10/dist-packages (from sympy->torch) (1.3.0)\n",
            "Installing collected packages: nvidia-nvtx-cu12, nvidia-nvjitlink-cu12, nvidia-nccl-cu12, nvidia-curand-cu12, nvidia-cufft-cu12, nvidia-cuda-runtime-cu12, nvidia-cuda-nvrtc-cu12, nvidia-cuda-cupti-cu12, nvidia-cublas-cu12, nvidia-cusparse-cu12, nvidia-cudnn-cu12, nvidia-cusolver-cu12\n",
            "Successfully installed nvidia-cublas-cu12-12.1.3.1 nvidia-cuda-cupti-cu12-12.1.105 nvidia-cuda-nvrtc-cu12-12.1.105 nvidia-cuda-runtime-cu12-12.1.105 nvidia-cudnn-cu12-8.9.2.26 nvidia-cufft-cu12-11.0.2.54 nvidia-curand-cu12-10.3.2.106 nvidia-cusolver-cu12-11.4.5.107 nvidia-cusparse-cu12-12.1.0.106 nvidia-nccl-cu12-2.19.3 nvidia-nvjitlink-cu12-12.4.127 nvidia-nvtx-cu12-12.1.105\n"
          ]
        }
      ],
      "source": [
        "! pip3 install torch torchvision"
      ]
    },
    {
      "cell_type": "code",
      "execution_count": null,
      "metadata": {
        "colab": {
          "base_uri": "https://localhost:8080/"
        },
        "id": "F8yqY98gUbdg",
        "outputId": "a3377cf8-dd83-467b-f72e-906dfda44163"
      },
      "outputs": [
        {
          "output_type": "execute_result",
          "data": {
            "text/plain": [
              "<torch._C.Generator at 0x7926ea8472f0>"
            ]
          },
          "metadata": {},
          "execution_count": 2
        }
      ],
      "source": [
        "import torch\n",
        "from torch import nn, utils\n",
        "import numpy as np\n",
        "from torchvision.datasets import CIFAR10\n",
        "import torchvision.transforms as transforms\n",
        "from tqdm import tqdm\n",
        "import matplotlib.pyplot as plt\n",
        "import seaborn as sns\n",
        "\n",
        "torch.manual_seed(42)"
      ]
    },
    {
      "cell_type": "markdown",
      "metadata": {
        "id": "mDbw6e3OgUPz"
      },
      "source": [
        "## DataLoader"
      ]
    },
    {
      "cell_type": "code",
      "execution_count": null,
      "metadata": {
        "id": "h9MpJlstW2bG"
      },
      "outputs": [],
      "source": [
        "\"\"\"\n",
        "Load data using torch DataLoader class.\n",
        "Batch size = 32\n",
        "\"\"\"\n",
        "\n",
        "train = CIFAR10(\n",
        "    \"/content/drive/MyDrive/ai-msc\",\n",
        "    train = True,\n",
        "    #download = True,\n",
        "    transform = transforms.ToTensor()\n",
        "    )\n",
        "\n",
        "test = CIFAR10(\n",
        "    \"/content/drive/MyDrive/ai-msc\",\n",
        "    #download = True,\n",
        "    train = False,\n",
        "    transform = transforms.ToTensor()\n",
        "    )\n",
        "\n",
        "batch = 32\n",
        "train_dl = utils.data.DataLoader(\n",
        "    train,\n",
        "    batch,\n",
        "    shuffle = True\n",
        "    )\n",
        "test_dl = utils.data.DataLoader(\n",
        "    test,\n",
        "    batch\n",
        "    )"
      ]
    },
    {
      "cell_type": "markdown",
      "metadata": {
        "id": "AT6tlIEeTGNq"
      },
      "source": [
        "## Basic Architecture"
      ]
    },
    {
      "cell_type": "code",
      "execution_count": null,
      "metadata": {
        "id": "lbsyPli-3_i2"
      },
      "outputs": [],
      "source": [
        "def weights_init(net):\n",
        "    \"\"\"\n",
        "    Init layer parameters.\n",
        "\n",
        "    Convolutional layers:\n",
        "      Xavier Normal\n",
        "      Bias = 0\n",
        "    Linear Layers:\n",
        "      Normal distribution with 0.001 standard deviation\n",
        "      Bias = 0\n",
        "    \"\"\"\n",
        "    for m in net.modules():\n",
        "        if isinstance(m, nn.Conv2d):\n",
        "            nn.init.xavier_normal_(m.weight)\n",
        "            if m.bias.any():\n",
        "                nn.init.constant_(m.bias, 0)\n",
        "        elif isinstance(m, nn.Linear):\n",
        "            nn.init.normal_(m.weight, std=1e-3)\n",
        "            if m.bias.any():\n",
        "                nn.init.constant_(m.bias, 0)"
      ]
    },
    {
      "cell_type": "code",
      "execution_count": null,
      "metadata": {
        "id": "VQbbpPscTNMV"
      },
      "outputs": [],
      "source": [
        "class IntermediateBlock(nn.Module):\n",
        "\n",
        "  \"\"\"\n",
        "  Class for the intermediate convolutional layer with architecture specifed by\n",
        "  assignment.\n",
        "  \"\"\"\n",
        "\n",
        "  def __init__(\n",
        "      self,\n",
        "      input_channels = 3,\n",
        "      output_channels = 32,\n",
        "      output_volume = 32,\n",
        "      units = 6,\n",
        "      ):\n",
        "    \"\"\"\n",
        "    input_channels:\n",
        "      The number of channels for incoming image\n",
        "    output_channels:\n",
        "      The number of channels for outgoing image\n",
        "    output_volume:\n",
        "      The size of the output image\n",
        "    units:\n",
        "      The number of convolutional units within the block\n",
        "    \"\"\"\n",
        "\n",
        "    super(IntermediateBlock, self).__init__()\n",
        "\n",
        "    self.units = units\n",
        "\n",
        "    # Set up the feed-forward network with the same number of outputs as units\n",
        "    # for weighting each convolutional unit within block\n",
        "    self.fc = nn.Sequential(\n",
        "        nn.Linear(input_channels, 32),\n",
        "        nn.LeakyReLU(),\n",
        "        nn.Linear(32, self.units),\n",
        "        nn.Softmax(dim = 1)\n",
        "    )\n",
        "\n",
        "    # Each convolutional unit applies LeakyReLU activation function to outputs\n",
        "    # Adaptive Average Pooling is used to ensure output dimensionality is\n",
        "    # consistent\n",
        "    self.conv_layer = nn.ModuleList([\n",
        "      nn.Sequential(\n",
        "        nn.Conv2d(\n",
        "            input_channels,\n",
        "            output_channels,\n",
        "            kernel_size = 8,\n",
        "            stride = 1,\n",
        "            padding = \"same\"\n",
        "            ),\n",
        "        nn.LeakyReLU(),\n",
        "        nn.AdaptiveAvgPool2d(output_volume)\n",
        "      )\n",
        "    ] * units)\n",
        "\n",
        "  def forward(self, x):\n",
        "\n",
        "    # Calculate the mean of input x and pass it through a feed forward network\n",
        "    # This returns weights specifying which convolutional units to weigh more\n",
        "    m = torch.mean(x, dim = [2, 3])\n",
        "    a = self.fc(m)\n",
        "\n",
        "    # Calculate the output of each convolutional layer and multiply it by\n",
        "    # the corresponding coefficient generated by the feed forward network above\n",
        "    # Stack and sum outputs of each convolutional layer\n",
        "    conv_layer_out = []\n",
        "\n",
        "    for coef, unit in zip(a.T, self.conv_layer):\n",
        "      conv_out = unit(x)\n",
        "      coef = coef.reshape(-1,1,1,1)\n",
        "      conv_layer_out.append(torch.mul(coef, conv_out))\n",
        "\n",
        "    return torch.sum(torch.stack(conv_layer_out,dim = 0), dim = 0)"
      ]
    },
    {
      "cell_type": "code",
      "execution_count": null,
      "metadata": {
        "id": "W0x7l4SKWrJ6"
      },
      "outputs": [],
      "source": [
        "class OutputBlock(nn.Module):\n",
        "\n",
        "  \"\"\"\n",
        "  Class for the output bloc with architecture specifed by assignment.\n",
        "  \"\"\"\n",
        "\n",
        "  def __init__(self, input_channels, input_volume):\n",
        "\n",
        "    super(OutputBlock, self).__init__()\n",
        "\n",
        "    self.input_channels = input_channels\n",
        "    self.input_volume = input_volume\n",
        "\n",
        "    # Calculate size of flattened image for input layer to feed forward network\n",
        "    self.first_layer_inputs = (input_volume * input_volume * input_channels)\n",
        "\n",
        "    # Set up feed forward network with LeakyReLU activation\n",
        "    self.fc = nn.Sequential(\n",
        "      nn.Flatten(),\n",
        "      nn.Linear(self.first_layer_inputs, 32),\n",
        "      nn.LeakyReLU(),\n",
        "      nn.Linear(32, 10),\n",
        "      nn.LeakyReLU()\n",
        "      )\n",
        "\n",
        "  def forward(self, x):\n",
        "\n",
        "    # Calculate logits from feed forward network\n",
        "    logits = self.fc(x)\n",
        "\n",
        "    return logits\n"
      ]
    },
    {
      "cell_type": "code",
      "execution_count": null,
      "metadata": {
        "id": "SJGF1SaFcIMR"
      },
      "outputs": [],
      "source": [
        "class BasicNN(nn.Module):\n",
        "\n",
        "  \"\"\"\n",
        "  Class defining basic neural network architecture based on that specified in\n",
        "  assignment\n",
        "  \"\"\"\n",
        "\n",
        "  def __init__(self, block_config):\n",
        "\n",
        "      \"\"\"\n",
        "      block_config:\n",
        "        Dictionary containing the configuration for each intermediate block\n",
        "      \"\"\"\n",
        "      super(BasicNN, self).__init__()\n",
        "\n",
        "      # Set up empty sequential container to iteratively add blocks based on\n",
        "      # config dictionary\n",
        "      self.spine = nn.Sequential()\n",
        "\n",
        "      # Iterate through config dictionary and add each block to spine\n",
        "      for i, block in enumerate(block_config.values()):\n",
        "\n",
        "        self.spine.append(IntermediateBlock(**block))\n",
        "\n",
        "      # Add output block to spine\n",
        "      self.spine.append(OutputBlock(32, 24))\n",
        "\n",
        "  def forward(self, x):\n",
        "\n",
        "    return self.spine(x)\n"
      ]
    },
    {
      "cell_type": "code",
      "execution_count": null,
      "metadata": {
        "id": "lqh-EXtctNFh"
      },
      "outputs": [],
      "source": [
        "block_config = {\n",
        "    # Input volume 32\n",
        "    \"block_1\": {\n",
        "        \"input_channels\": 3,\n",
        "        \"output_channels\": 32,\n",
        "        \"output_volume\": 28,\n",
        "        \"units\": 6\n",
        "    },\n",
        "    # Input volume: 28\n",
        "    \"block_2\": {\n",
        "        \"input_channels\": 32,\n",
        "        \"output_channels\": 32,\n",
        "        \"output_volume\": 28,\n",
        "        \"units\": 6\n",
        "    },\n",
        "    # Input volume: 28\n",
        "    \"block_3\": {\n",
        "        \"input_channels\": 32,\n",
        "        \"output_channels\": 32,\n",
        "        \"output_volume\": 26,\n",
        "        \"units\": 6\n",
        "    },\n",
        "    # Input volume: 26\n",
        "    \"block_4\": {\n",
        "        \"input_channels\": 32,\n",
        "        \"output_channels\": 32,\n",
        "        \"output_volume\": 26,\n",
        "        \"units\": 6\n",
        "    },\n",
        "    # Input volume 24\n",
        "    \"block_5\": {\n",
        "        \"input_channels\": 32,\n",
        "        \"output_channels\": 32,\n",
        "        \"output_volume\": 24,\n",
        "        \"units\": 6\n",
        "    },\n",
        "}"
      ]
    },
    {
      "cell_type": "markdown",
      "metadata": {
        "id": "1_zv-XOpgX9T"
      },
      "source": [
        "## Training and testing"
      ]
    },
    {
      "cell_type": "code",
      "execution_count": null,
      "metadata": {
        "id": "XeK1Ums__cZI"
      },
      "outputs": [],
      "source": [
        "def accuracy(model, dataloader, return_loss = False):\n",
        "  \"\"\"\n",
        "  Calculates the accuracy of an image classifier.\n",
        "\n",
        "  model:\n",
        "    Classification model\n",
        "  Dataloader:\n",
        "    Generates each batch of the dataset\n",
        "  return_loss:\n",
        "    Flag to return the cumulative loss on the dataset\n",
        "  \"\"\"\n",
        "\n",
        "  # Initialise variables to track total samples and correct predictions\n",
        "  # Initialise softmax layer\n",
        "  total, correct = 0, 0\n",
        "  m = nn.Softmax(dim = 1)\n",
        "\n",
        "  # Initialise loss function and loss variable\n",
        "  loss = 0\n",
        "  loss_function = nn.CrossEntropyLoss().to(device)\n",
        "\n",
        "  # Set model to evaluation mode to prevent gradient tracking for these\n",
        "  # calculations\n",
        "  model.eval()\n",
        "\n",
        "  # Iterate through each batch in dataloader\n",
        "  for data in dataloader:\n",
        "\n",
        "    # Get model outputs from inputs\n",
        "    inputs, labels = data\n",
        "    inputs, labels = inputs.to(device), labels.to(device)\n",
        "    outputs = model(inputs)\n",
        "\n",
        "    # Generate predictions by applying softmax and taking max argument\n",
        "    pred = torch.argmax(m(outputs.data), 1)\n",
        "\n",
        "    # Add batch size to total\n",
        "    total += labels.size(0)\n",
        "\n",
        "    # Add number of correct predictions to correct\n",
        "    correct += (pred == labels).sum().item()\n",
        "\n",
        "    # If return_loss add loss\n",
        "    if return_loss:\n",
        "      loss += loss_function(outputs, labels).item()\n",
        "\n",
        "  # Return accuracy and loss (zero if return_loss set to False)\n",
        "  return correct/total, loss\n",
        "\n"
      ]
    },
    {
      "cell_type": "code",
      "execution_count": null,
      "metadata": {
        "id": "zEAOUxVebBlV"
      },
      "outputs": [],
      "source": [
        "# Borrowed from: https://stackoverflow.com/questions/71998978/early-stopping-in-pytorch\n",
        "\n",
        "class EarlyStopper:\n",
        "\n",
        "    \"\"\"\n",
        "    Class to track changes in validation loss\n",
        "    \"\"\"\n",
        "\n",
        "    def __init__(self, patience=1, min_delta=0):\n",
        "        \"\"\"\n",
        "        patience:\n",
        "          Number of epochs to wait before returning true after no change in\n",
        "          loss greater than minimum delta\n",
        "        min_delta:\n",
        "          The minimum change required the prevent early stoppage\n",
        "        \"\"\"\n",
        "        self.patience = patience\n",
        "        self.min_delta = min_delta\n",
        "        self.counter = 0\n",
        "        self.min_validation_loss = float('inf')\n",
        "\n",
        "\n",
        "    def early_stop(self, validation_loss):\n",
        "        \"\"\"\n",
        "        Method calculates if training should stop early based on validation loss\n",
        "        changes\n",
        "        \"\"\"\n",
        "\n",
        "        # If incoming validation loss is larger than the minimum seen validation\n",
        "        # loss minus the minimum delta\n",
        "        if validation_loss > (self.min_validation_loss - self.min_delta):\n",
        "            self.counter += 1\n",
        "            if self.counter >= self.patience:\n",
        "                return True\n",
        "\n",
        "        # Otherwise set minimum validation loss to new validation loss\n",
        "        else:\n",
        "          self.counter = 0\n",
        "          self.min_validation_loss = validation_loss\n",
        "\n",
        "        return False"
      ]
    },
    {
      "cell_type": "code",
      "execution_count": null,
      "metadata": {
        "id": "2vGF4Bd6rZXM"
      },
      "outputs": [],
      "source": [
        "def train_network(net):\n",
        "  \"\"\"\n",
        "  Function for training neural network on CIFAR 10.\n",
        "\n",
        "  Returns train accuracy, test accuracy and training loss per epoch.\n",
        "\n",
        "  Generate plot of training accuracy, test acuracy and training loss per epoch.\n",
        "  \"\"\"\n",
        "\n",
        "  # Use cross-entropy loss\n",
        "  loss_fn = nn.CrossEntropyLoss()\n",
        "  loss_fn.to(device)\n",
        "\n",
        "  # Use Adam optimisation for weight updates\n",
        "  optimizer = torch.optim.Adam(net.parameters(), lr = alpha)\n",
        "\n",
        "  # Use cosine annealing to adjust the learning rate for each epoch\n",
        "  scheduler = torch.optim.lr_scheduler.CosineAnnealingLR(optimizer, max_epochs)\n",
        "\n",
        "  # Enable gradient scaling to calculate weight updates where gradients are\n",
        "  # small\n",
        "  scaler = torch.cuda.amp.GradScaler(enabled=True)\n",
        "\n",
        "  losses = []\n",
        "  train_accuracy = []\n",
        "  test_accuracy = []\n",
        "\n",
        "  # Initialise early stopper\n",
        "  stopper = EarlyStopper(patience = 5, min_delta = 1)\n",
        "\n",
        "  # Iterate through each epoch\n",
        "  for j, epoch in tqdm(enumerate(range(max_epochs))):\n",
        "\n",
        "    # Initialise loss for epoch to zero\n",
        "    loss_epoch = 0\n",
        "\n",
        "    # Start iterating through batches\n",
        "    for i, data in enumerate(train_dl, 0):\n",
        "\n",
        "      # Put model in train mode to calculate gradients\n",
        "      net.train()\n",
        "\n",
        "      inputs, labels = data\n",
        "      inputs, labels = inputs.to(device), labels.to(device)\n",
        "\n",
        "      # Context manager enabling automatic mixed precision for forward pass\n",
        "      # and loss calculation.\n",
        "      with torch.cuda.amp.autocast(enabled=True):\n",
        "        outputs = net(inputs)\n",
        "        loss = loss_fn(outputs, labels)\n",
        "\n",
        "      # Calculate backward pass and update weights using gradient scaler\n",
        "      scaler.scale(loss).backward()\n",
        "      scaler.step(optimizer)\n",
        "      scaler.update()\n",
        "\n",
        "      # Zero the optimizer gradient\n",
        "      optimizer.zero_grad()\n",
        "\n",
        "      # Add loss per batch to epoch loss\n",
        "      loss_epoch += loss.item()\n",
        "\n",
        "    # Collect model performance statistics for epoch\n",
        "    losses.append(loss_epoch)\n",
        "    train_accuracy.append(accuracy(net, train_dl)[0])\n",
        "    test_acc_epoch, test_loss = accuracy(net, test_dl, return_loss = True)\n",
        "    test_accuracy.append(test_acc_epoch)\n",
        "\n",
        "    # Check change in validation loss\n",
        "    if stopper.early_stop(test_loss):\n",
        "      break\n",
        "\n",
        "    # Print training statistics for first five epochs and then every third\n",
        "    if (j < 5) or (j % 3 == 0):\n",
        "      print()\n",
        "      print(train_accuracy[-1])\n",
        "      print(test_accuracy[-1])\n",
        "      print(losses[-1])\n",
        "\n",
        "  # Print final statistics once training is complete\n",
        "  print(f\"\"\"\n",
        "    Final statistics:\n",
        "      Training Accuracy: {train_accuracy[-1]}\n",
        "      Test Accuracy: {test_accuracy[-1]}\n",
        "      Loss: {losses[-1]}\n",
        "  \"\"\")\n",
        "\n",
        "  # Plot training accuracy, test accuracy and loss per epoch\n",
        "  fig, ax = plt.subplots(nrows = 2, figsize = (8, 8))\n",
        "\n",
        "  ax[0].plot(range(len(train_accuracy)), train_accuracy, label = \"Training\")\n",
        "  ax[0].plot(range(len(test_accuracy)), test_accuracy, label = \"Test\")\n",
        "\n",
        "  ax[1].plot(range(len(losses)), losses)\n",
        "\n",
        "  ax[0].legend()\n",
        "\n",
        "  plt.show();\n",
        "\n",
        "  return train_accuracy, test_accuracy, losses"
      ]
    },
    {
      "cell_type": "code",
      "execution_count": null,
      "metadata": {
        "colab": {
          "base_uri": "https://localhost:8080/",
          "height": 1000
        },
        "id": "VRUXQ6JBgcKB",
        "outputId": "ccd82808-3413-40db-d35d-3924ad5ba27f"
      },
      "outputs": [
        {
          "output_type": "stream",
          "name": "stderr",
          "text": [
            "\r0it [00:00, ?it/s]/usr/local/lib/python3.10/dist-packages/torch/nn/modules/conv.py:456: UserWarning: Using padding='same' with even kernel lengths and odd dilation may require a zero-padded copy of the input be created (Triggered internally at ../aten/src/ATen/native/Convolution.cpp:1040.)\n",
            "  return F.conv2d(input, weight, bias, self.stride,\n",
            "1it [01:11, 71.75s/it]"
          ]
        },
        {
          "output_type": "stream",
          "name": "stdout",
          "text": [
            "\n",
            "0.42304\n",
            "0.4267\n",
            "2879.616572856903\n"
          ]
        },
        {
          "output_type": "stream",
          "name": "stderr",
          "text": [
            "\r2it [02:23, 71.75s/it]"
          ]
        },
        {
          "output_type": "stream",
          "name": "stdout",
          "text": [
            "\n",
            "0.50252\n",
            "0.4937\n",
            "2310.8733234405518\n"
          ]
        },
        {
          "output_type": "stream",
          "name": "stderr",
          "text": [
            "\r3it [03:34, 71.46s/it]"
          ]
        },
        {
          "output_type": "stream",
          "name": "stdout",
          "text": [
            "\n",
            "0.55316\n",
            "0.5375\n",
            "2090.0225071907043\n"
          ]
        },
        {
          "output_type": "stream",
          "name": "stderr",
          "text": [
            "\r4it [04:45, 71.33s/it]"
          ]
        },
        {
          "output_type": "stream",
          "name": "stdout",
          "text": [
            "\n",
            "0.58556\n",
            "0.5686\n",
            "1934.6986529231071\n"
          ]
        },
        {
          "output_type": "stream",
          "name": "stderr",
          "text": [
            "\r5it [05:57, 71.37s/it]"
          ]
        },
        {
          "output_type": "stream",
          "name": "stdout",
          "text": [
            "\n",
            "0.61496\n",
            "0.5863\n",
            "1805.5262751579285\n"
          ]
        },
        {
          "output_type": "stream",
          "name": "stderr",
          "text": [
            "7it [08:19, 71.28s/it]"
          ]
        },
        {
          "output_type": "stream",
          "name": "stdout",
          "text": [
            "\n",
            "0.65196\n",
            "0.6078\n",
            "1614.7197657227516\n"
          ]
        },
        {
          "output_type": "stream",
          "name": "stderr",
          "text": [
            "10it [11:51, 70.88s/it]"
          ]
        },
        {
          "output_type": "stream",
          "name": "stdout",
          "text": [
            "\n",
            "0.70622\n",
            "0.6429\n",
            "1386.2828766703606\n"
          ]
        },
        {
          "output_type": "stream",
          "name": "stderr",
          "text": [
            "13it [15:23, 70.68s/it]"
          ]
        },
        {
          "output_type": "stream",
          "name": "stdout",
          "text": [
            "\n",
            "0.75176\n",
            "0.6709\n",
            "1198.7196207046509\n"
          ]
        },
        {
          "output_type": "stream",
          "name": "stderr",
          "text": [
            "16it [18:55, 70.58s/it]"
          ]
        },
        {
          "output_type": "stream",
          "name": "stdout",
          "text": [
            "\n",
            "0.7734\n",
            "0.6707\n",
            "1054.249535113573\n"
          ]
        },
        {
          "output_type": "stream",
          "name": "stderr",
          "text": [
            "19it [22:26, 70.40s/it]"
          ]
        },
        {
          "output_type": "stream",
          "name": "stdout",
          "text": [
            "\n",
            "0.8161\n",
            "0.6766\n",
            "921.0135945677757\n"
          ]
        },
        {
          "output_type": "stream",
          "name": "stderr",
          "text": [
            "\r19it [23:36, 74.57s/it]\n"
          ]
        },
        {
          "output_type": "stream",
          "name": "stdout",
          "text": [
            "\n",
            "    Final statistics:\n",
            "      Training Accuracy: 0.81398\n",
            "      Test Accuracy: 0.682\n",
            "      Loss: 875.3243458867073\n",
            "  \n"
          ]
        },
        {
          "output_type": "display_data",
          "data": {
            "text/plain": [
              "<Figure size 800x800 with 2 Axes>"
            ],
            "image/png": "[encoded data removed]"
          },
          "metadata": {}
        }
      ],
      "source": [
        "# Set training parameters\n",
        "device = torch.device(\"cuda\")\n",
        "max_epochs = 30\n",
        "alpha = 0.0001\n",
        "\n",
        "# Initialise basic neural net; parameters\n",
        "basic_net = BasicNN(block_config).to(device)\n",
        "basic_net.apply(weights_init)\n",
        "\n",
        "# Train basic NN\n",
        "basic_train_accuracy, basic_test_accuracy, basic_losses = train_network(basic_net)"
      ]
    },
    {
      "cell_type": "code",
      "source": [],
      "metadata": {
        "id": "mHK666SlUtOx"
      },
      "execution_count": null,
      "outputs": []
    }
  ],
  "metadata": {
    "accelerator": "GPU",
    "colab": {
      "gpuType": "V100",
      "machine_shape": "hm",
      "provenance": []
    },
    "kernelspec": {
      "display_name": "Python 3",
      "name": "python3"
    },
    "language_info": {
      "name": "python"
    }
  },
  "nbformat": 4,
  "nbformat_minor": 0
}