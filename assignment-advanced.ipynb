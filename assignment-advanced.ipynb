{
  "cells": [
    {
      "cell_type": "markdown",
      "metadata": {
        "id": "YyvWYSFqUr6e"
      },
      "source": [
        "# Neural Networks and Deep Learning - Programming Assignment\n",
        "\n",
        "## Import libraries"
      ]
    },
    {
      "cell_type": "code",
      "execution_count": 1,
      "metadata": {
        "colab": {
          "base_uri": "https://localhost:8080/"
        },
        "id": "ZhjqcBFHVKFW",
        "outputId": "b361b0c3-810f-412e-e7bd-912068868952"
      },
      "outputs": [
        {
          "output_type": "stream",
          "name": "stdout",
          "text": [
            "Requirement already satisfied: torch in /usr/local/lib/python3.10/dist-packages (2.2.1+cu121)\n",
            "Requirement already satisfied: torchvision in /usr/local/lib/python3.10/dist-packages (0.17.1+cu121)\n",
            "Requirement already satisfied: filelock in /usr/local/lib/python3.10/dist-packages (from torch) (3.13.3)\n",
            "Requirement already satisfied: typing-extensions>=4.8.0 in /usr/local/lib/python3.10/dist-packages (from torch) (4.10.0)\n",
            "Requirement already satisfied: sympy in /usr/local/lib/python3.10/dist-packages (from torch) (1.12)\n",
            "Requirement already satisfied: networkx in /usr/local/lib/python3.10/dist-packages (from torch) (3.2.1)\n",
            "Requirement already satisfied: jinja2 in /usr/local/lib/python3.10/dist-packages (from torch) (3.1.3)\n",
            "Requirement already satisfied: fsspec in /usr/local/lib/python3.10/dist-packages (from torch) (2023.6.0)\n",
            "Collecting nvidia-cuda-nvrtc-cu12==12.1.105 (from torch)\n",
            "  Using cached nvidia_cuda_nvrtc_cu12-12.1.105-py3-none-manylinux1_x86_64.whl (23.7 MB)\n",
            "Collecting nvidia-cuda-runtime-cu12==12.1.105 (from torch)\n",
            "  Using cached nvidia_cuda_runtime_cu12-12.1.105-py3-none-manylinux1_x86_64.whl (823 kB)\n",
            "Collecting nvidia-cuda-cupti-cu12==12.1.105 (from torch)\n",
            "  Using cached nvidia_cuda_cupti_cu12-12.1.105-py3-none-manylinux1_x86_64.whl (14.1 MB)\n",
            "Collecting nvidia-cudnn-cu12==8.9.2.26 (from torch)\n",
            "  Using cached nvidia_cudnn_cu12-8.9.2.26-py3-none-manylinux1_x86_64.whl (731.7 MB)\n",
            "Collecting nvidia-cublas-cu12==12.1.3.1 (from torch)\n",
            "  Using cached nvidia_cublas_cu12-12.1.3.1-py3-none-manylinux1_x86_64.whl (410.6 MB)\n",
            "Collecting nvidia-cufft-cu12==11.0.2.54 (from torch)\n",
            "  Using cached nvidia_cufft_cu12-11.0.2.54-py3-none-manylinux1_x86_64.whl (121.6 MB)\n",
            "Collecting nvidia-curand-cu12==10.3.2.106 (from torch)\n",
            "  Using cached nvidia_curand_cu12-10.3.2.106-py3-none-manylinux1_x86_64.whl (56.5 MB)\n",
            "Collecting nvidia-cusolver-cu12==11.4.5.107 (from torch)\n",
            "  Using cached nvidia_cusolver_cu12-11.4.5.107-py3-none-manylinux1_x86_64.whl (124.2 MB)\n",
            "Collecting nvidia-cusparse-cu12==12.1.0.106 (from torch)\n",
            "  Using cached nvidia_cusparse_cu12-12.1.0.106-py3-none-manylinux1_x86_64.whl (196.0 MB)\n",
            "Collecting nvidia-nccl-cu12==2.19.3 (from torch)\n",
            "  Using cached nvidia_nccl_cu12-2.19.3-py3-none-manylinux1_x86_64.whl (166.0 MB)\n",
            "Collecting nvidia-nvtx-cu12==12.1.105 (from torch)\n",
            "  Using cached nvidia_nvtx_cu12-12.1.105-py3-none-manylinux1_x86_64.whl (99 kB)\n",
            "Requirement already satisfied: triton==2.2.0 in /usr/local/lib/python3.10/dist-packages (from torch) (2.2.0)\n",
            "Collecting nvidia-nvjitlink-cu12 (from nvidia-cusolver-cu12==11.4.5.107->torch)\n",
            "  Using cached nvidia_nvjitlink_cu12-12.4.127-py3-none-manylinux2014_x86_64.whl (21.1 MB)\n",
            "Requirement already satisfied: numpy in /usr/local/lib/python3.10/dist-packages (from torchvision) (1.25.2)\n",
            "Requirement already satisfied: pillow!=8.3.*,>=5.3.0 in /usr/local/lib/python3.10/dist-packages (from torchvision) (9.4.0)\n",
            "Requirement already satisfied: MarkupSafe>=2.0 in /usr/local/lib/python3.10/dist-packages (from jinja2->torch) (2.1.5)\n",
            "Requirement already satisfied: mpmath>=0.19 in /usr/local/lib/python3.10/dist-packages (from sympy->torch) (1.3.0)\n",
            "Installing collected packages: nvidia-nvtx-cu12, nvidia-nvjitlink-cu12, nvidia-nccl-cu12, nvidia-curand-cu12, nvidia-cufft-cu12, nvidia-cuda-runtime-cu12, nvidia-cuda-nvrtc-cu12, nvidia-cuda-cupti-cu12, nvidia-cublas-cu12, nvidia-cusparse-cu12, nvidia-cudnn-cu12, nvidia-cusolver-cu12\n",
            "Successfully installed nvidia-cublas-cu12-12.1.3.1 nvidia-cuda-cupti-cu12-12.1.105 nvidia-cuda-nvrtc-cu12-12.1.105 nvidia-cuda-runtime-cu12-12.1.105 nvidia-cudnn-cu12-8.9.2.26 nvidia-cufft-cu12-11.0.2.54 nvidia-curand-cu12-10.3.2.106 nvidia-cusolver-cu12-11.4.5.107 nvidia-cusparse-cu12-12.1.0.106 nvidia-nccl-cu12-2.19.3 nvidia-nvjitlink-cu12-12.4.127 nvidia-nvtx-cu12-12.1.105\n"
          ]
        }
      ],
      "source": [
        "! pip3 install torch torchvision"
      ]
    },
    {
      "cell_type": "code",
      "execution_count": 2,
      "metadata": {
        "colab": {
          "base_uri": "https://localhost:8080/"
        },
        "id": "F8yqY98gUbdg",
        "outputId": "627a3fc8-f016-4bda-a9fb-d020ad72c20d"
      },
      "outputs": [
        {
          "output_type": "execute_result",
          "data": {
            "text/plain": [
              "<torch._C.Generator at 0x7d9ac5c5b4d0>"
            ]
          },
          "metadata": {},
          "execution_count": 2
        }
      ],
      "source": [
        "import torch\n",
        "from torch import nn, utils\n",
        "import numpy as np\n",
        "from torchvision.datasets import CIFAR10\n",
        "import torchvision.transforms as transforms\n",
        "from tqdm import tqdm\n",
        "import matplotlib.pyplot as plt\n",
        "import seaborn as sns\n",
        "\n",
        "torch.manual_seed(42)"
      ]
    },
    {
      "cell_type": "markdown",
      "metadata": {
        "id": "mDbw6e3OgUPz"
      },
      "source": [
        "## DataLoader"
      ]
    },
    {
      "cell_type": "code",
      "source": [
        "# code in this cell is adapted from kentaroy47/vision-transformers-cifar10\n",
        "# https://github.com/kentaroy47/vision-transformers-cifar10/blob/main/randomaug.py\n",
        "\n",
        "\"\"\"\n",
        "Define functions to apply a random selection of the following transformations to\n",
        "training data:\n",
        "\n",
        "- Shear (in x or y axis)\n",
        "- Translate (in x or y axis)\n",
        "- Rotate\n",
        "- Auto Contrast\n",
        "- Invert\n",
        "- Equalize\n",
        "- Solarize\n",
        "- Posterize\n",
        "- Contrast\n",
        "- Color\n",
        "- Brightness\n",
        "- Sharpness\n",
        "- Cutout\n",
        "\n",
        "\"\"\"\n",
        "\n",
        "import random\n",
        "\n",
        "import PIL, PIL.ImageOps, PIL.ImageEnhance, PIL.ImageDraw\n",
        "import numpy as np\n",
        "import torch\n",
        "from PIL import Image\n",
        "\n",
        "\n",
        "def ShearX(img, v):  # [-0.3, 0.3]\n",
        "    assert -0.3 <= v <= 0.3\n",
        "    if random.random() > 0.5:\n",
        "        v = -v\n",
        "    return img.transform(img.size, PIL.Image.AFFINE, (1, v, 0, 0, 1, 0))\n",
        "\n",
        "\n",
        "def ShearY(img, v):  # [-0.3, 0.3]\n",
        "    assert -0.3 <= v <= 0.3\n",
        "    if random.random() > 0.5:\n",
        "        v = -v\n",
        "    return img.transform(img.size, PIL.Image.AFFINE, (1, 0, 0, v, 1, 0))\n",
        "\n",
        "\n",
        "def TranslateXabs(img, v):  # [-150, 150] => percentage: [-0.45, 0.45]\n",
        "    assert 0 <= v\n",
        "    if random.random() > 0.5:\n",
        "        v = -v\n",
        "    return img.transform(img.size, PIL.Image.AFFINE, (1, 0, v, 0, 1, 0))\n",
        "\n",
        "\n",
        "def TranslateYabs(img, v):  # [-150, 150] => percentage: [-0.45, 0.45]\n",
        "    assert 0 <= v\n",
        "    if random.random() > 0.5:\n",
        "        v = -v\n",
        "    return img.transform(img.size, PIL.Image.AFFINE, (1, 0, 0, 0, 1, v))\n",
        "\n",
        "\n",
        "def Rotate(img, v):  # [-30, 30]\n",
        "    assert -30 <= v <= 30\n",
        "    if random.random() > 0.5:\n",
        "        v = -v\n",
        "    return img.rotate(v)\n",
        "\n",
        "\n",
        "def AutoContrast(img, _):\n",
        "    return PIL.ImageOps.autocontrast(img)\n",
        "\n",
        "\n",
        "def Invert(img, _):\n",
        "    return PIL.ImageOps.invert(img)\n",
        "\n",
        "\n",
        "def Equalize(img, _):\n",
        "    return PIL.ImageOps.equalize(img)\n",
        "\n",
        "\n",
        "def Solarize(img, v):  # [0, 256]\n",
        "    assert 0 <= v <= 256\n",
        "    return PIL.ImageOps.solarize(img, v)\n",
        "\n",
        "\n",
        "def SolarizeAdd(img, addition=0, threshold=128):\n",
        "    img_np = np.array(img).astype(int)\n",
        "    img_np = img_np + addition\n",
        "    img_np = np.clip(img_np, 0, 255)\n",
        "    img_np = img_np.astype(np.uint8)\n",
        "    img = Image.fromarray(img_np)\n",
        "    return PIL.ImageOps.solarize(img, threshold)\n",
        "\n",
        "\n",
        "def Posterize(img, v):  # [4, 8]\n",
        "    v = int(v)\n",
        "    v = max(1, v)\n",
        "    return PIL.ImageOps.posterize(img, v)\n",
        "\n",
        "\n",
        "def Contrast(img, v):  # [0.1,1.9]\n",
        "    assert 0.1 <= v <= 1.9\n",
        "    return PIL.ImageEnhance.Contrast(img).enhance(v)\n",
        "\n",
        "\n",
        "def Color(img, v):  # [0.1,1.9]\n",
        "    assert 0.1 <= v <= 1.9\n",
        "    return PIL.ImageEnhance.Color(img).enhance(v)\n",
        "\n",
        "\n",
        "def Brightness(img, v):  # [0.1,1.9]\n",
        "    assert 0.1 <= v <= 1.9\n",
        "    return PIL.ImageEnhance.Brightness(img).enhance(v)\n",
        "\n",
        "\n",
        "def Sharpness(img, v):  # [0.1,1.9]\n",
        "    assert 0.1 <= v <= 1.9\n",
        "    return PIL.ImageEnhance.Sharpness(img).enhance(v)\n",
        "\n",
        "\n",
        "def CutoutAbs(img, v):  # [0, 60] => percentage: [0, 0.2]\n",
        "    # assert 0 <= v <= 20\n",
        "    if v < 0:\n",
        "        return img\n",
        "    w, h = img.size\n",
        "    x0 = np.random.uniform(w)\n",
        "    y0 = np.random.uniform(h)\n",
        "\n",
        "    x0 = int(max(0, x0 - v / 2.))\n",
        "    y0 = int(max(0, y0 - v / 2.))\n",
        "    x1 = min(w, x0 + v)\n",
        "    y1 = min(h, y0 + v)\n",
        "\n",
        "    xy = (x0, y0, x1, y1)\n",
        "    color = (125, 123, 114)\n",
        "    img = img.copy()\n",
        "    PIL.ImageDraw.Draw(img).rectangle(xy, color)\n",
        "    return img\n",
        "\n",
        "def Identity(img, v):\n",
        "    return img\n",
        "\n",
        "def augment_list():\n",
        "\n",
        "    l = [\n",
        "        (AutoContrast, 0, 1),\n",
        "        (Equalize, 0, 1),\n",
        "        (Invert, 0, 1),\n",
        "        (Rotate, 0, 30),\n",
        "        (Posterize, 0, 4),\n",
        "        (Solarize, 0, 256),\n",
        "        (SolarizeAdd, 0, 110),\n",
        "        (Color, 0.1, 1.9),\n",
        "        (Contrast, 0.1, 1.9),\n",
        "        (Brightness, 0.1, 1.9),\n",
        "        (Sharpness, 0.1, 1.9),\n",
        "        (ShearX, 0., 0.3),\n",
        "        (ShearY, 0., 0.3),\n",
        "        (CutoutAbs, 0, 40),\n",
        "        (TranslateXabs, 0., 100),\n",
        "        (TranslateYabs, 0., 100),\n",
        "        (Identity, 0., 0.)\n",
        "    ]\n",
        "\n",
        "    return l\n",
        "\n",
        "class RandAugment:\n",
        "    \"\"\"\n",
        "    Class handles which augmentations to apply to incoming image\n",
        "    \"\"\"\n",
        "    def __init__(self, n, m):\n",
        "        \"\"\"\n",
        "        n:\n",
        "          The number of augmentations to apply to incoming image\n",
        "        m:\n",
        "          The strength of the augmentation applied\n",
        "        \"\"\"\n",
        "        self.n = n\n",
        "        self.m = m      # [0, 30]\n",
        "        self.augment_list = augment_list()\n",
        "\n",
        "    def __call__(self, img):\n",
        "        ops = random.choices(self.augment_list, k=self.n)\n",
        "        for op, minval, maxval in ops:\n",
        "            val = (float(self.m) / 30) * float(maxval - minval) + minval\n",
        "            img = op(img, val)\n",
        "\n",
        "        return img"
      ],
      "metadata": {
        "id": "IgsP_BXpFC2x"
      },
      "execution_count": 3,
      "outputs": []
    },
    {
      "cell_type": "code",
      "execution_count": 4,
      "metadata": {
        "id": "4JCd_aMHnIzB",
        "colab": {
          "base_uri": "https://localhost:8080/"
        },
        "outputId": "102ec2ef-117e-47a5-9bfa-325feaefb597"
      },
      "outputs": [
        {
          "output_type": "stream",
          "name": "stdout",
          "text": [
            "Downloading https://www.cs.toronto.edu/~kriz/cifar-10-python.tar.gz to /content/drive/MyDrive/ai-msc/cifar-10-python.tar.gz\n"
          ]
        },
        {
          "output_type": "stream",
          "name": "stderr",
          "text": [
            "100%|██████████| 170498071/170498071 [00:13<00:00, 12652667.20it/s]\n"
          ]
        },
        {
          "output_type": "stream",
          "name": "stdout",
          "text": [
            "Extracting /content/drive/MyDrive/ai-msc/cifar-10-python.tar.gz to /content/drive/MyDrive/ai-msc\n",
            "Files already downloaded and verified\n"
          ]
        }
      ],
      "source": [
        "from torchvision.transforms import v2\n",
        "\n",
        "\"\"\"\n",
        "Load CIFAR 10 dataset.\n",
        "\n",
        "Apply two random transformations from set of transformations defined above to\n",
        "training data.\n",
        "\n",
        "Do not apply transformations to test data.\n",
        "\"\"\"\n",
        "\n",
        "train_augmentation = transforms.Compose([\n",
        "    RandAugment(2, 14),\n",
        "    transforms.RandomCrop(32, padding=4),\n",
        "    transforms.Resize(32),\n",
        "    transforms.RandomHorizontalFlip(),\n",
        "    transforms.ToTensor(),\n",
        "    transforms.Normalize((0.4914, 0.4822, 0.4465), (0.2023, 0.1994, 0.2010)),\n",
        "])\n",
        "\n",
        "test_augmentation = transforms.Compose([\n",
        "    transforms.Resize(32),\n",
        "    transforms.ToTensor(),\n",
        "    transforms.Normalize((0.4914, 0.4822, 0.4465), (0.2023, 0.1994, 0.2010)),\n",
        "])\n",
        "\n",
        "train = CIFAR10(\n",
        "    \"/content/drive/MyDrive/ai-msc\",\n",
        "    train = True,\n",
        "    download = True,\n",
        "    transform = train_augmentation\n",
        "    )\n",
        "\n",
        "test = CIFAR10(\n",
        "    \"/content/drive/MyDrive/ai-msc\",\n",
        "    train = False,\n",
        "    download = True,\n",
        "    transform = test_augmentation\n",
        "    )\n",
        "\n",
        "batch = 32\n",
        "train_dl = utils.data.DataLoader(\n",
        "    train,\n",
        "    batch,\n",
        "    shuffle = True,\n",
        "    num_workers = 4\n",
        "    )\n",
        "test_dl = utils.data.DataLoader(\n",
        "    test,\n",
        "    batch,\n",
        "    num_workers = 4\n",
        "    )"
      ]
    },
    {
      "cell_type": "markdown",
      "metadata": {
        "id": "1_zv-XOpgX9T"
      },
      "source": [
        "## Training and testing"
      ]
    },
    {
      "cell_type": "code",
      "execution_count": 5,
      "metadata": {
        "id": "XeK1Ums__cZI"
      },
      "outputs": [],
      "source": [
        "def accuracy(model, dataloader, return_loss = False):\n",
        "  \"\"\"\n",
        "  Calculates the accuracy of an image classifier.\n",
        "\n",
        "  model:\n",
        "    Classification model\n",
        "  Dataloader:\n",
        "    Generates each batch of the dataset\n",
        "  return_loss:\n",
        "    Flag to return the cumulative loss on the dataset\n",
        "  \"\"\"\n",
        "\n",
        "  # Initialise variables to track total samples and correct predictions\n",
        "  # Initialise softmax layer\n",
        "  total, correct = 0, 0\n",
        "  m = nn.Softmax(dim = 1)\n",
        "\n",
        "  # Initialise loss function and loss variable\n",
        "  loss = 0\n",
        "  loss_function = nn.CrossEntropyLoss().to(device)\n",
        "\n",
        "  # Set model to evaluation mode to prevent gradient tracking for these\n",
        "  # calculations\n",
        "  model.eval()\n",
        "\n",
        "  # Iterate through each batch in dataloader\n",
        "  for data in dataloader:\n",
        "\n",
        "    # Get model outputs from inputs\n",
        "    inputs, labels = data\n",
        "    inputs, labels = inputs.to(device), labels.to(device)\n",
        "    outputs = model(inputs)\n",
        "\n",
        "    # Generate predictions by applying softmax and taking max argument\n",
        "    pred = torch.argmax(m(outputs.data), 1)\n",
        "\n",
        "    # Add batch size to total\n",
        "    total += labels.size(0)\n",
        "\n",
        "    # Add number of correct predictions to correct\n",
        "    correct += (pred == labels).sum().item()\n",
        "\n",
        "    # If return_loss add loss\n",
        "    if return_loss:\n",
        "      loss += loss_function(outputs, labels).item()\n",
        "\n",
        "  # Return accuracy and loss (zero if return_loss set to False)\n",
        "  return correct/total, loss\n",
        "\n"
      ]
    },
    {
      "cell_type": "code",
      "execution_count": 6,
      "metadata": {
        "id": "zEAOUxVebBlV"
      },
      "outputs": [],
      "source": [
        "# Borrowed from: https://stackoverflow.com/questions/71998978/early-stopping-in-pytorch\n",
        "\n",
        "class EarlyStopper:\n",
        "\n",
        "    \"\"\"\n",
        "    Class to track changes in validation loss\n",
        "    \"\"\"\n",
        "\n",
        "    def __init__(self, patience=1, min_delta=0):\n",
        "        \"\"\"\n",
        "        patience:\n",
        "          Number of epochs to wait before returning true after no change in\n",
        "          loss greater than minimum delta\n",
        "        min_delta:\n",
        "          The minimum change required the prevent early stoppage\n",
        "        \"\"\"\n",
        "        self.patience = patience\n",
        "        self.min_delta = min_delta\n",
        "        self.counter = 0\n",
        "        self.min_validation_loss = float('inf')\n",
        "\n",
        "    def early_stop(self, validation_loss):\n",
        "        \"\"\"\n",
        "        Method calculates if training should stop early based on validation loss\n",
        "        changes\n",
        "        \"\"\"\n",
        "\n",
        "        # If incoming validation loss is larger than the minimum seen validation\n",
        "        # loss minus the minimum delta\n",
        "        if validation_loss > (self.min_validation_loss - self.min_delta):\n",
        "            self.counter += 1\n",
        "            if self.counter >= self.patience:\n",
        "                return True\n",
        "\n",
        "        # Otherwise set minimum validation loss to new validation loss\n",
        "        else:\n",
        "          self.counter = 0\n",
        "          self.min_validation_loss = validation_loss\n",
        "\n",
        "        return False"
      ]
    },
    {
      "cell_type": "code",
      "execution_count": 7,
      "metadata": {
        "id": "2vGF4Bd6rZXM"
      },
      "outputs": [],
      "source": [
        "def train_network(net):\n",
        "  \"\"\"\n",
        "  Function for training neural network on CIFAR 10.\n",
        "\n",
        "  Returns train accuracy, test accuracy and training loss per epoch.\n",
        "\n",
        "  Generate plot of training accuracy, test acuracy and training loss per epoch.\n",
        "\n",
        "  https://github.com/kentaroy47/vision-transformers-cifar10/blob/main/train_cifar10.py\n",
        "  \"\"\"\n",
        "\n",
        "  # Use cross-entropy loss\n",
        "  loss_fn = nn.CrossEntropyLoss()\n",
        "  loss_fn.to(device)\n",
        "\n",
        "  # Use Adam optimisation for weight updates\n",
        "  optimizer = torch.optim.Adam(net.parameters(), lr = alpha)\n",
        "\n",
        "  # Use cosine annealing to adjust the learning rate for each epoch\n",
        "  scheduler = torch.optim.lr_scheduler.CosineAnnealingLR(optimizer, max_epochs)\n",
        "\n",
        "  # Enable gradient scaling to calculate weight updates where gradients are\n",
        "  # small\n",
        "  scaler = torch.cuda.amp.GradScaler(enabled=True)\n",
        "\n",
        "  losses = []\n",
        "  train_accuracy = []\n",
        "  test_accuracy = []\n",
        "\n",
        "  # Initialise early stopper\n",
        "  stopper = EarlyStopper(patience = 5, min_delta = 1)\n",
        "\n",
        "  # Iterate through each epoch\n",
        "  for j, epoch in tqdm(enumerate(range(max_epochs))):\n",
        "\n",
        "    # Initialise loss for epoch to zero\n",
        "    loss_epoch = 0\n",
        "\n",
        "    # Start iterating through batches\n",
        "    for i, data in enumerate(train_dl, 0):\n",
        "\n",
        "      # Put model in train mode to calculate gradients\n",
        "      net.train()\n",
        "\n",
        "      inputs, labels = data\n",
        "      inputs, labels = inputs.to(device), labels.to(device)\n",
        "\n",
        "      # Context manager enabling automatic mixed precision for forward pass\n",
        "      # and loss calculation.\n",
        "      with torch.cuda.amp.autocast(enabled=True):\n",
        "        outputs = net(inputs)\n",
        "        loss = loss_fn(outputs, labels)\n",
        "\n",
        "      # Calculate backward pass and update weights using gradient scaler\n",
        "      scaler.scale(loss).backward()\n",
        "\n",
        "      # Unscales the gradients of optimizer's assigned params in-place\n",
        "      scaler.unscale_(optimizer)\n",
        "\n",
        "      # Since the gradients of optimizer's assigned params are unscaled, clips as usual:\n",
        "      torch.nn.utils.clip_grad_norm_(net.parameters(), 0.1)\n",
        "\n",
        "      # optimizer's gradients are already unscaled, so scaler.step does not unscale them,\n",
        "      # although it still skips optimizer.step() if the gradients contain infs or NaNs.\n",
        "      scaler.step(optimizer)\n",
        "\n",
        "      # Updates the scale for next iteration.\n",
        "      scaler.update()\n",
        "\n",
        "      # Zero the optimizer gradient\n",
        "      optimizer.zero_grad()\n",
        "\n",
        "      # Add loss per batch to epoch loss\n",
        "      loss_epoch += loss.item()\n",
        "\n",
        "    # Collect model performance statistics for epoch\n",
        "    losses.append(loss_epoch)\n",
        "    train_accuracy.append(accuracy(net, train_dl)[0])\n",
        "    test_acc_epoch, test_loss = accuracy(net, test_dl, return_loss = True)\n",
        "    test_accuracy.append(test_acc_epoch)\n",
        "\n",
        "    # Check change in validation loss\n",
        "    if stopper.early_stop(test_loss):\n",
        "      break\n",
        "\n",
        "    # Print training statistics for first five epochs and then every third\n",
        "    if (j < 5) or (j % 3 == 0):\n",
        "      print()\n",
        "      print(train_accuracy[-1])\n",
        "      print(test_accuracy[-1])\n",
        "      print(losses[-1])\n",
        "\n",
        "  # Print final statistics once training is complete\n",
        "  print(f\"\"\"\n",
        "    Final statistics:\n",
        "      Training Accuracy: {train_accuracy[-1]}\n",
        "      Test Accuracy: {test_accuracy[-1]}\n",
        "      Loss: {losses[-1]}\n",
        "  \"\"\")\n",
        "\n",
        "  # Plot training accuracy, test accuracy and loss per epoch\n",
        "  fig, ax = plt.subplots(nrows = 2, figsize = (8, 8))\n",
        "\n",
        "  ax[0].plot(range(len(train_accuracy)), train_accuracy, label = \"Training\")\n",
        "  ax[0].plot(range(len(test_accuracy)), test_accuracy, label = \"Test\")\n",
        "\n",
        "  ax[1].plot(range(len(losses)), losses)\n",
        "\n",
        "  ax[0].legend()\n",
        "\n",
        "  plt.show();\n",
        "\n",
        "  return train_accuracy, test_accuracy, losses"
      ]
    },
    {
      "cell_type": "code",
      "execution_count": 36,
      "metadata": {
        "id": "Qr2U_6WYrxYO"
      },
      "outputs": [],
      "source": [
        "class IntermediateBlock(nn.Module):\n",
        "\n",
        "  \"\"\"\n",
        "  Class for the intermediate convolutional layer with architecture specifed by\n",
        "  assignment.\n",
        "  \"\"\"\n",
        "\n",
        "  def __init__(\n",
        "      self,\n",
        "      input_channels = 3,\n",
        "      output_channels = 256,\n",
        "      output_volume = 32,\n",
        "      kernel_size = 8,\n",
        "      units = 4,\n",
        "      groups = True\n",
        "      ):\n",
        "    \"\"\"\n",
        "    input_channels:\n",
        "      The number of channels for incoming image\n",
        "    output_channels:\n",
        "      The number of channels for outgoing image\n",
        "    output_volume:\n",
        "      The size of the output image\n",
        "    units:\n",
        "      The number of convolutional units within the block\n",
        "    groups:\n",
        "      Whether to split inputs to groups for convolving\n",
        "    \"\"\"\n",
        "\n",
        "    super(IntermediateBlock, self).__init__()\n",
        "\n",
        "    self.units = units\n",
        "\n",
        "    if not groups:\n",
        "      self.groups = 1\n",
        "    else:\n",
        "      self.groups = input_channels\n",
        "\n",
        "    # Set up the feed-forward network with the same number of outputs as units\n",
        "    # for weighting each convolutional unit within block\n",
        "    self.fc = nn.Sequential(\n",
        "        nn.LayerNorm(input_channels),\n",
        "        nn.Linear(input_channels, 256),\n",
        "        nn.GELU(),\n",
        "        nn.Dropout(0.2),\n",
        "        nn.Linear(256, self.units),\n",
        "        nn.Softmax(dim = 1)\n",
        "    )\n",
        "\n",
        "    # Each convolutional unit applies GELU activation function to outputs\n",
        "    # Adaptive Average Pooling is used to ensure output dimensionality is\n",
        "    # consistent\n",
        "    self.conv_layer = nn.ModuleList([\n",
        "        nn.Sequential(\n",
        "          nn.Conv2d(\n",
        "              input_channels,\n",
        "              output_channels,\n",
        "              groups = self.groups,\n",
        "              kernel_size = kernel_size,\n",
        "              stride = 1,\n",
        "              padding = \"same\"\n",
        "              ),\n",
        "          nn.GELU(),\n",
        "          nn.AdaptiveAvgPool2d(output_volume)\n",
        "        )\n",
        "    ] * units)\n",
        "\n",
        "  def forward(self, x):\n",
        "\n",
        "    # Calculate the mean of input x and pass it through a feed forward network\n",
        "    # This returns weights specifying which convolutional units to weigh more\n",
        "    m = torch.mean(x, dim = [2, 3])\n",
        "    a = self.fc(m)\n",
        "\n",
        "    # Calculate the output of each convolutional layer and multiply it by\n",
        "    # the corresponding coefficient generated by the feed forward network above\n",
        "    # Stack and sum outputs of each convolutional layer\n",
        "    conv_layer_out = []\n",
        "\n",
        "    for coef, unit in zip(a.T, self.conv_layer):\n",
        "      conv_out = unit(x)\n",
        "      coef = coef.reshape(-1,1,1,1)\n",
        "      conv_layer_out.append(torch.mul(coef, conv_out))\n",
        "\n",
        "    return torch.sum(torch.stack(conv_layer_out,dim = 0), dim = 0)\n",
        "\n",
        "class OutputBlock(nn.Module):\n",
        "\n",
        "  \"\"\"\n",
        "  Class for the output bloc with architecture specifed by assignment.\n",
        "  \"\"\"\n",
        "\n",
        "  def __init__(self, input_channels, input_volume):\n",
        "\n",
        "    super(OutputBlock, self).__init__()\n",
        "\n",
        "    self.input_channels = input_channels\n",
        "    self.input_volume = input_volume\n",
        "\n",
        "    # Calculate size of flattened image for input layer to feed forward network\n",
        "    self.first_layer_inputs = (input_volume * input_volume * input_channels)\n",
        "\n",
        "    # Set up feed forward network\n",
        "    self.fc = nn.Sequential(\n",
        "      nn.Flatten(),\n",
        "      nn.LayerNorm(self.first_layer_inputs),\n",
        "      nn.Linear(self.first_layer_inputs, 10)\n",
        "  )\n",
        "\n",
        "  def forward(self, x):\n",
        "\n",
        "    # Calculate logits from feed forward network\n",
        "    logits = self.fc(x)\n",
        "\n",
        "    return logits\n",
        "\n",
        "class Residual(nn.Module):\n",
        "  \"\"\"\n",
        "  Wrapper class which pools the original input and adds it to the output\n",
        "  of the wrapped module.\n",
        "\n",
        "  https://github.com/kentaroy47/vision-transformers-cifar10/blob/main/models/convmixer.py\n",
        "  \"\"\"\n",
        "  def __init__(self, fn):\n",
        "    \"\"\"\n",
        "    fn:\n",
        "      The module being wrapped\n",
        "    \"\"\"\n",
        "    super().__init__()\n",
        "    self.fn = fn\n",
        "\n",
        "  def forward(self, x):\n",
        "\n",
        "    # Calculate the output from the forward pass of the wrapped module\n",
        "    output = self.fn(x)\n",
        "\n",
        "    # Change the dimensionality of x to match that of the output\n",
        "    residual = nn.AdaptiveMaxPool2d(output.shape[2])(x)\n",
        "\n",
        "    # Sum the output with the residual\n",
        "    return output + residual\n",
        "\n",
        "class AdvancedCNN(nn.Module):\n",
        "\n",
        "  \"\"\"\n",
        "  Class defining advanced convolutional architecture based on that specified in\n",
        "  assignment\n",
        "  \"\"\"\n",
        "\n",
        "  def __init__(self, block_config):\n",
        "\n",
        "      \"\"\"\n",
        "      block_config:\n",
        "        Dictionary containing the configuration for each intermediate block\n",
        "      \"\"\"\n",
        "\n",
        "      super(AdvancedCNN, self).__init__()\n",
        "\n",
        "      # Set up empty sequential container to iteratively add blocks based on\n",
        "      # config dictionary\n",
        "      self.spine = nn.Sequential()\n",
        "\n",
        "      # Variable to track last intermediate block's output channels\n",
        "      self.int_block_out = None\n",
        "\n",
        "      # Add first intermediate block to expand channels from 3 to 256\n",
        "      self.spine.append(nn.Sequential(\n",
        "        IntermediateBlock(\n",
        "            input_channels = 3,\n",
        "            output_channels = block_config[\"block_1\"][\"input_channels\"],\n",
        "            output_volume = 32,\n",
        "            units = 4,\n",
        "            groups = False\n",
        "        ),\n",
        "        nn.BatchNorm2d(block_config[\"block_1\"][\"input_channels\"])\n",
        "        ))\n",
        "\n",
        "      # Iterate through config dictionary and add each block to spine\n",
        "      for i, block in enumerate(block_config.values()):\n",
        "\n",
        "        self.int_block_out = block[\"output_channels\"]\n",
        "\n",
        "        # Add intermediate block wrapped with the residual class\n",
        "        self.spine.append(\n",
        "            nn.Sequential(\n",
        "              Residual(\n",
        "                  IntermediateBlock(**block)\n",
        "                  ),\n",
        "              nn.BatchNorm2d(self.int_block_out)\n",
        "              )\n",
        "            )\n",
        "\n",
        "        # Add convolutional layer wrapped with residual layer\n",
        "        self.spine.append(\n",
        "            nn.Sequential(\n",
        "                nn.Conv2d(\n",
        "                    self.int_block_out,\n",
        "                    self.int_block_out,\n",
        "                    kernel_size=1\n",
        "                    ),\n",
        "                nn.GELU(),\n",
        "                nn.BatchNorm2d(self.int_block_out)\n",
        "                )\n",
        "            )\n",
        "\n",
        "      # Add adaptive pooling layer to reduce each channel to a number\n",
        "      # representing one feature\n",
        "      self.spine.append(nn.AdaptiveAvgPool2d((1,1)))\n",
        "\n",
        "      # Add output block\n",
        "      self.spine.append(OutputBlock(self.int_block_out, 1))\n",
        "\n",
        "  def forward(self, x):\n",
        "\n",
        "    return self.spine(x)"
      ]
    },
    {
      "cell_type": "code",
      "execution_count": 9,
      "metadata": {
        "id": "MPkRmL6dvi0x"
      },
      "outputs": [],
      "source": [
        "def weights_init(net):\n",
        "  \"\"\"\n",
        "  Init layer parameters.\n",
        "\n",
        "  Convolutional layers:\n",
        "    Weights: Kaiming Normal\n",
        "    Bias: 0\n",
        "  Linear Layers:\n",
        "    Weights: Normal distribution with 0.001 standard deviation\n",
        "    Bias: 0\n",
        "  Batch Norm layers:\n",
        "    Weights: 1\n",
        "    Bias: 0\n",
        "  \"\"\"\n",
        "  for m in net.modules():\n",
        "    if isinstance(m, nn.Conv2d):\n",
        "        nn.init.kaiming_normal_(m.weight, mode='fan_out')\n",
        "        if m.bias.any():\n",
        "            nn.init.constant_(m.bias, 0)\n",
        "    elif isinstance(m, nn.BatchNorm2d):\n",
        "        nn.init.constant_(m.weight, 1)\n",
        "        nn.init.constant_(m.bias, 0)\n",
        "    elif isinstance(m, nn.Linear):\n",
        "        nn.init.normal_(m.weight, std=1e-3)\n",
        "        if m.bias.any():\n",
        "            nn.init.constant_(m.bias, 0)"
      ]
    },
    {
      "cell_type": "markdown",
      "source": [
        "## Training\n",
        "\n",
        "### Mono kernel size: 8"
      ],
      "metadata": {
        "id": "QGhLo1Fre2vM"
      }
    },
    {
      "cell_type": "code",
      "source": [
        "block_config = {\n",
        "    \"block_1\": {\n",
        "        \"input_channels\": 256,\n",
        "        \"output_channels\": 256,\n",
        "        \"output_volume\": 32,\n",
        "        \"units\": 4,\n",
        "    },\n",
        "    \"block_2\": {\n",
        "        \"input_channels\": 256,\n",
        "        \"output_channels\": 256,\n",
        "        \"output_volume\": 26,\n",
        "        \"units\": 4,\n",
        "      },\n",
        "    \"block_3\": {\n",
        "        \"input_channels\": 256,\n",
        "        \"output_channels\": 256,\n",
        "        \"output_volume\": 20,\n",
        "        \"units\": 4,\n",
        "    },\n",
        "    \"block_4\": {\n",
        "        \"input_channels\": 256,\n",
        "        \"output_channels\": 256,\n",
        "        \"output_volume\": 20,\n",
        "        \"units\": 4,\n",
        "    },\n",
        "    \"block_5\": {\n",
        "        \"input_channels\": 256,\n",
        "        \"output_channels\": 256,\n",
        "        \"output_volume\": 18,\n",
        "        \"units\": 4,\n",
        "    }\n",
        "}"
      ],
      "metadata": {
        "id": "6B7fkmE-Xm-n"
      },
      "execution_count": null,
      "outputs": []
    },
    {
      "cell_type": "code",
      "execution_count": null,
      "metadata": {
        "colab": {
          "base_uri": "https://localhost:8080/",
          "height": 1000
        },
        "id": "3uYnIMRusRjW",
        "outputId": "fbf326a3-6dde-4c16-8142-93d5c8e559d1"
      },
      "outputs": [
        {
          "output_type": "stream",
          "name": "stderr",
          "text": [
            "1it [03:24, 204.64s/it]"
          ]
        },
        {
          "output_type": "stream",
          "name": "stdout",
          "text": [
            "\n",
            "0.34854\n",
            "0.5012\n",
            "3117.952793121338\n"
          ]
        },
        {
          "output_type": "stream",
          "name": "stderr",
          "text": [
            "\r2it [06:49, 204.72s/it]"
          ]
        },
        {
          "output_type": "stream",
          "name": "stdout",
          "text": [
            "\n",
            "0.42724\n",
            "0.6255\n",
            "2647.7365658283234\n"
          ]
        },
        {
          "output_type": "stream",
          "name": "stderr",
          "text": [
            "\r3it [10:14, 205.03s/it]"
          ]
        },
        {
          "output_type": "stream",
          "name": "stdout",
          "text": [
            "\n",
            "0.47026\n",
            "0.6745\n",
            "2409.253499865532\n"
          ]
        },
        {
          "output_type": "stream",
          "name": "stderr",
          "text": [
            "\r4it [13:40, 205.34s/it]"
          ]
        },
        {
          "output_type": "stream",
          "name": "stdout",
          "text": [
            "\n",
            "0.5021\n",
            "0.7256\n",
            "2256.6907720565796\n"
          ]
        },
        {
          "output_type": "stream",
          "name": "stderr",
          "text": [
            "\r5it [17:07, 205.92s/it]"
          ]
        },
        {
          "output_type": "stream",
          "name": "stdout",
          "text": [
            "\n",
            "0.52482\n",
            "0.7492\n",
            "2141.3165875077248\n"
          ]
        },
        {
          "output_type": "stream",
          "name": "stderr",
          "text": [
            "7it [24:00, 206.23s/it]"
          ]
        },
        {
          "output_type": "stream",
          "name": "stdout",
          "text": [
            "\n",
            "0.55382\n",
            "0.78\n",
            "1995.125045657158\n"
          ]
        },
        {
          "output_type": "stream",
          "name": "stderr",
          "text": [
            "10it [34:22, 206.89s/it]"
          ]
        },
        {
          "output_type": "stream",
          "name": "stdout",
          "text": [
            "\n",
            "0.58832\n",
            "0.826\n",
            "1865.1337485313416\n"
          ]
        },
        {
          "output_type": "stream",
          "name": "stderr",
          "text": [
            "13it [44:43, 207.02s/it]"
          ]
        },
        {
          "output_type": "stream",
          "name": "stdout",
          "text": [
            "\n",
            "0.60114\n",
            "0.835\n",
            "1782.456323325634\n"
          ]
        },
        {
          "output_type": "stream",
          "name": "stderr",
          "text": [
            "16it [55:06, 207.48s/it]"
          ]
        },
        {
          "output_type": "stream",
          "name": "stdout",
          "text": [
            "\n",
            "0.61592\n",
            "0.8469\n",
            "1708.9836345613003\n"
          ]
        },
        {
          "output_type": "stream",
          "name": "stderr",
          "text": [
            "19it [1:05:27, 207.17s/it]"
          ]
        },
        {
          "output_type": "stream",
          "name": "stdout",
          "text": [
            "\n",
            "0.6268\n",
            "0.8581\n",
            "1672.6499121189117\n"
          ]
        },
        {
          "output_type": "stream",
          "name": "stderr",
          "text": [
            "22it [1:15:49, 207.18s/it]"
          ]
        },
        {
          "output_type": "stream",
          "name": "stdout",
          "text": [
            "\n",
            "0.63886\n",
            "0.8697\n",
            "1626.11548101902\n"
          ]
        },
        {
          "output_type": "stream",
          "name": "stderr",
          "text": [
            "25it [1:26:12, 207.68s/it]"
          ]
        },
        {
          "output_type": "stream",
          "name": "stdout",
          "text": [
            "\n",
            "0.64174\n",
            "0.8685\n",
            "1590.8360727727413\n"
          ]
        },
        {
          "output_type": "stream",
          "name": "stderr",
          "text": [
            "28it [1:36:35, 207.63s/it]"
          ]
        },
        {
          "output_type": "stream",
          "name": "stdout",
          "text": [
            "\n",
            "0.64864\n",
            "0.8696\n",
            "1552.545153439045\n"
          ]
        },
        {
          "output_type": "stream",
          "name": "stderr",
          "text": [
            "31it [1:46:59, 207.95s/it]"
          ]
        },
        {
          "output_type": "stream",
          "name": "stdout",
          "text": [
            "\n",
            "0.65476\n",
            "0.8791\n",
            "1532.8799176216125\n"
          ]
        },
        {
          "output_type": "stream",
          "name": "stderr",
          "text": [
            "34it [1:57:21, 207.36s/it]"
          ]
        },
        {
          "output_type": "stream",
          "name": "stdout",
          "text": [
            "\n",
            "0.66006\n",
            "0.8863\n",
            "1521.3380641937256\n"
          ]
        },
        {
          "output_type": "stream",
          "name": "stderr",
          "text": [
            "37it [2:07:42, 207.11s/it]"
          ]
        },
        {
          "output_type": "stream",
          "name": "stdout",
          "text": [
            "\n",
            "0.66794\n",
            "0.8921\n",
            "1512.9203142821789\n"
          ]
        },
        {
          "output_type": "stream",
          "name": "stderr",
          "text": [
            "40it [2:18:04, 207.23s/it]"
          ]
        },
        {
          "output_type": "stream",
          "name": "stdout",
          "text": [
            "\n",
            "0.66924\n",
            "0.888\n",
            "1465.2652651965618\n"
          ]
        },
        {
          "output_type": "stream",
          "name": "stderr",
          "text": [
            "42it [2:28:25, 212.05s/it]\n"
          ]
        },
        {
          "output_type": "stream",
          "name": "stdout",
          "text": [
            "\n",
            "    Final statistics:\n",
            "      Training Accuracy: 0.67128\n",
            "      Test Accuracy: 0.8872\n",
            "      Loss: 1460.8532066345215\n",
            "  \n"
          ]
        },
        {
          "output_type": "display_data",
          "data": {
            "text/plain": [
              "<Figure size 800x800 with 2 Axes>"
            ],
            "image/png": "[encoded data removed]"
          },
          "metadata": {}
        }
      ],
      "source": [
        "# Set training parameters\n",
        "device = torch.device(\"cuda\")\n",
        "max_epochs = 60\n",
        "alpha = 0.001\n",
        "\n",
        "# Initialise advanced neural net; parameters\n",
        "advanced_cnn = AdvancedCNN(\n",
        "    block_config\n",
        "    ).to(device)\n",
        "advanced_cnn.apply(weights_init)\n",
        "\n",
        "# Train advanced CNN\n",
        "adv_train_accuracy, adv_test_accuracy, adv_losses = train_network(advanced_cnn)"
      ]
    },
    {
      "cell_type": "markdown",
      "source": [
        "### Mixed kernel size"
      ],
      "metadata": {
        "id": "js4sMyB5OepO"
      }
    },
    {
      "cell_type": "code",
      "source": [
        "block_config = {\n",
        "    \"block_1\": {\n",
        "        \"input_channels\": 256,\n",
        "        \"output_channels\": 256,\n",
        "        \"output_volume\": 32,\n",
        "        \"kernel_size\": 8,\n",
        "        \"units\": 4,\n",
        "    },\n",
        "    \"block_2\": {\n",
        "        \"input_channels\": 256,\n",
        "        \"output_channels\": 256,\n",
        "        \"output_volume\": 28,\n",
        "        \"kernel_size\": 7,\n",
        "        \"units\": 4,\n",
        "      },\n",
        "    \"block_3\": {\n",
        "        \"input_channels\": 256,\n",
        "        \"output_channels\": 256,\n",
        "        \"output_volume\": 24,\n",
        "        \"kernel_size\": 6,\n",
        "        \"units\": 4,\n",
        "    },\n",
        "    \"block_4\": {\n",
        "        \"input_channels\": 256,\n",
        "        \"output_channels\": 256,\n",
        "        \"output_volume\": 20,\n",
        "        \"kernel_size\": 5,\n",
        "        \"units\": 4,\n",
        "    },\n",
        "    \"block_5\": {\n",
        "        \"input_channels\": 256,\n",
        "        \"output_channels\": 256,\n",
        "        \"output_volume\": 20,\n",
        "        \"kernel_size\": 5,\n",
        "        \"units\": 4,\n",
        "    }\n",
        "}"
      ],
      "metadata": {
        "id": "ml6a0bwjOed1"
      },
      "execution_count": null,
      "outputs": []
    },
    {
      "cell_type": "code",
      "source": [
        "# Set training parameters\n",
        "device = torch.device(\"cuda\")\n",
        "max_epochs = 60\n",
        "alpha = 0.001\n",
        "\n",
        "# Initialise advanced neural net; parameters\n",
        "advanced_cnn2 = AdvancedCNN(\n",
        "    block_config\n",
        "    ).to(device)\n",
        "advanced_cnn2.apply(weights_init)\n",
        "\n",
        "# Train advanced CNN\n",
        "adv_train_accuracy, adv_test_accuracy, adv_losses = train_network(advanced_cnn2)"
      ],
      "metadata": {
        "colab": {
          "base_uri": "https://localhost:8080/",
          "height": 1000
        },
        "id": "o5LWxVgZOm_T",
        "outputId": "426eea6f-8229-4389-b464-d4bdd9c6b83c"
      },
      "execution_count": null,
      "outputs": [
        {
          "metadata": {
            "tags": null
          },
          "name": "stderr",
          "output_type": "stream",
          "text": [
            "0it [00:00, ?it/s]/usr/local/lib/python3.10/dist-packages/torch/nn/modules/conv.py:456: UserWarning: Using padding='same' with even kernel lengths and odd dilation may require a zero-padded copy of the input be created (Triggered internally at ../aten/src/ATen/native/Convolution.cpp:1040.)\n",
            "  return F.conv2d(input, weight, bias, self.stride,\n",
            "1it [03:07, 187.12s/it]"
          ]
        },
        {
          "metadata": {
            "tags": null
          },
          "name": "stdout",
          "output_type": "stream",
          "text": [
            "\n",
            "0.29728\n",
            "0.4291\n",
            "3221.340866088867\n"
          ]
        },
        {
          "metadata": {
            "tags": null
          },
          "name": "stderr",
          "output_type": "stream",
          "text": [
            "\r2it [06:12, 186.22s/it]"
          ]
        },
        {
          "metadata": {
            "tags": null
          },
          "name": "stdout",
          "output_type": "stream",
          "text": [
            "\n",
            "0.38808\n",
            "0.5572\n",
            "2815.742823600769\n"
          ]
        },
        {
          "metadata": {
            "tags": null
          },
          "name": "stderr",
          "output_type": "stream",
          "text": [
            "\r3it [09:17, 185.75s/it]"
          ]
        },
        {
          "metadata": {
            "tags": null
          },
          "name": "stdout",
          "output_type": "stream",
          "text": [
            "\n",
            "0.43504\n",
            "0.6227\n",
            "2562.494434118271\n"
          ]
        },
        {
          "metadata": {
            "tags": null
          },
          "name": "stderr",
          "output_type": "stream",
          "text": [
            "\r4it [12:22, 185.44s/it]"
          ]
        },
        {
          "metadata": {
            "tags": null
          },
          "name": "stdout",
          "output_type": "stream",
          "text": [
            "\n",
            "0.47456\n",
            "0.6751\n",
            "2381.515536427498\n"
          ]
        },
        {
          "metadata": {
            "tags": null
          },
          "name": "stderr",
          "output_type": "stream",
          "text": [
            "\r5it [15:27, 185.23s/it]"
          ]
        },
        {
          "metadata": {
            "tags": null
          },
          "name": "stdout",
          "output_type": "stream",
          "text": [
            "\n",
            "0.49518\n",
            "0.7092\n",
            "2279.719033241272\n"
          ]
        },
        {
          "metadata": {
            "tags": null
          },
          "name": "stderr",
          "output_type": "stream",
          "text": [
            "7it [21:37, 184.97s/it]"
          ]
        },
        {
          "metadata": {
            "tags": null
          },
          "name": "stdout",
          "output_type": "stream",
          "text": [
            "\n",
            "0.53296\n",
            "0.7545\n",
            "2119.7484056949615\n"
          ]
        },
        {
          "metadata": {
            "tags": null
          },
          "name": "stderr",
          "output_type": "stream",
          "text": [
            "10it [30:51, 184.82s/it]"
          ]
        },
        {
          "metadata": {
            "tags": null
          },
          "name": "stdout",
          "output_type": "stream",
          "text": [
            "\n",
            "0.56024\n",
            "0.778\n",
            "1954.0643277168274\n"
          ]
        },
        {
          "metadata": {
            "tags": null
          },
          "name": "stderr",
          "output_type": "stream",
          "text": [
            "13it [40:04, 184.58s/it]"
          ]
        },
        {
          "metadata": {
            "tags": null
          },
          "name": "stdout",
          "output_type": "stream",
          "text": [
            "\n",
            "0.58862\n",
            "0.8152\n",
            "1855.1848133206367\n"
          ]
        },
        {
          "metadata": {
            "tags": null
          },
          "name": "stderr",
          "output_type": "stream",
          "text": [
            "16it [49:19, 184.68s/it]"
          ]
        },
        {
          "metadata": {
            "tags": null
          },
          "name": "stdout",
          "output_type": "stream",
          "text": [
            "\n",
            "0.6026\n",
            "0.8373\n",
            "1784.2771221399307\n"
          ]
        },
        {
          "metadata": {
            "tags": null
          },
          "name": "stderr",
          "output_type": "stream",
          "text": [
            "19it [58:35, 185.02s/it]"
          ]
        },
        {
          "metadata": {
            "tags": null
          },
          "name": "stdout",
          "output_type": "stream",
          "text": [
            "\n",
            "0.61356\n",
            "0.8361\n",
            "1721.761386692524\n"
          ]
        },
        {
          "metadata": {
            "tags": null
          },
          "name": "stderr",
          "output_type": "stream",
          "text": [
            "22it [1:07:48, 184.79s/it]"
          ]
        },
        {
          "metadata": {
            "tags": null
          },
          "name": "stdout",
          "output_type": "stream",
          "text": [
            "\n",
            "0.6209\n",
            "0.8449\n",
            "1685.6435540020466\n"
          ]
        },
        {
          "metadata": {
            "tags": null
          },
          "name": "stderr",
          "output_type": "stream",
          "text": [
            "25it [1:17:05, 185.24s/it]"
          ]
        },
        {
          "metadata": {
            "tags": null
          },
          "name": "stdout",
          "output_type": "stream",
          "text": [
            "\n",
            "0.63276\n",
            "0.8517\n",
            "1644.232360869646\n"
          ]
        },
        {
          "output_type": "stream",
          "name": "stderr",
          "text": [
            "28it [1:26:21, 185.19s/it]"
          ]
        },
        {
          "output_type": "stream",
          "name": "stdout",
          "text": [
            "\n",
            "0.63574\n",
            "0.8591\n",
            "1620.2071445584297\n"
          ]
        },
        {
          "output_type": "stream",
          "name": "stderr",
          "text": [
            "31it [1:35:36, 185.18s/it]"
          ]
        },
        {
          "output_type": "stream",
          "name": "stdout",
          "text": [
            "\n",
            "0.64434\n",
            "0.864\n",
            "1597.929930537939\n"
          ]
        },
        {
          "output_type": "stream",
          "name": "stderr",
          "text": [
            "34it [1:44:52, 185.31s/it]"
          ]
        },
        {
          "output_type": "stream",
          "name": "stdout",
          "text": [
            "\n",
            "0.65212\n",
            "0.8727\n",
            "1567.1761759519577\n"
          ]
        },
        {
          "output_type": "stream",
          "name": "stderr",
          "text": [
            "37it [1:54:08, 185.47s/it]"
          ]
        },
        {
          "output_type": "stream",
          "name": "stdout",
          "text": [
            "\n",
            "0.6529\n",
            "0.8717\n",
            "1540.498427927494\n"
          ]
        },
        {
          "output_type": "stream",
          "name": "stderr",
          "text": [
            "40it [2:03:26, 185.64s/it]"
          ]
        },
        {
          "output_type": "stream",
          "name": "stdout",
          "text": [
            "\n",
            "0.66248\n",
            "0.8787\n",
            "1521.3235140144825\n"
          ]
        },
        {
          "output_type": "stream",
          "name": "stderr",
          "text": [
            "43it [2:12:43, 185.68s/it]"
          ]
        },
        {
          "output_type": "stream",
          "name": "stdout",
          "text": [
            "\n",
            "0.66074\n",
            "0.8821\n",
            "1496.7262484431267\n"
          ]
        },
        {
          "output_type": "stream",
          "name": "stderr",
          "text": [
            "46it [2:22:02, 186.20s/it]"
          ]
        },
        {
          "output_type": "stream",
          "name": "stdout",
          "text": [
            "\n",
            "0.66838\n",
            "0.8852\n",
            "1482.6549656391144\n"
          ]
        },
        {
          "output_type": "stream",
          "name": "stderr",
          "text": [
            "49it [2:31:20, 186.20s/it]"
          ]
        },
        {
          "output_type": "stream",
          "name": "stdout",
          "text": [
            "\n",
            "0.66864\n",
            "0.8857\n",
            "1489.2930338680744\n"
          ]
        },
        {
          "output_type": "stream",
          "name": "stderr",
          "text": [
            "52it [2:40:39, 186.24s/it]"
          ]
        },
        {
          "output_type": "stream",
          "name": "stdout",
          "text": [
            "\n",
            "0.67\n",
            "0.8922\n",
            "1468.5325982868671\n"
          ]
        },
        {
          "output_type": "stream",
          "name": "stderr",
          "text": [
            "55it [2:49:54, 185.39s/it]"
          ]
        },
        {
          "output_type": "stream",
          "name": "stdout",
          "text": [
            "\n",
            "0.6728\n",
            "0.8924\n",
            "1450.041918873787\n"
          ]
        },
        {
          "output_type": "stream",
          "name": "stderr",
          "text": [
            "58it [2:59:07, 184.74s/it]"
          ]
        },
        {
          "output_type": "stream",
          "name": "stdout",
          "text": [
            "\n",
            "0.67562\n",
            "0.8921\n",
            "1431.158572256565\n"
          ]
        },
        {
          "output_type": "stream",
          "name": "stderr",
          "text": [
            "60it [3:05:17, 185.29s/it]\n"
          ]
        },
        {
          "output_type": "stream",
          "name": "stdout",
          "text": [
            "\n",
            "    Final statistics:\n",
            "      Training Accuracy: 0.67836\n",
            "      Test Accuracy: 0.8944\n",
            "      Loss: 1434.2685668766499\n",
            "  \n"
          ]
        },
        {
          "output_type": "display_data",
          "data": {
            "text/plain": [
              "<Figure size 800x800 with 2 Axes>"
            ],
            "image/png": "[encoded data removed]"
          },
          "metadata": {}
        }
      ]
    },
    {
      "cell_type": "markdown",
      "source": [
        "### Increasing units per layer"
      ],
      "metadata": {
        "id": "N2wlidr17Alu"
      }
    },
    {
      "cell_type": "code",
      "source": [
        "block_config = {\n",
        "    \"block_1\": {\n",
        "        \"input_channels\": 256,\n",
        "        \"output_channels\": 256,\n",
        "        \"output_volume\": 32,\n",
        "        \"kernel_size\": 8,\n",
        "        \"units\": 6,\n",
        "    },\n",
        "    \"block_2\": {\n",
        "        \"input_channels\": 256,\n",
        "        \"output_channels\": 256,\n",
        "        \"output_volume\": 28,\n",
        "        \"kernel_size\": 7,\n",
        "        \"units\": 6,\n",
        "      },\n",
        "    \"block_3\": {\n",
        "        \"input_channels\": 256,\n",
        "        \"output_channels\": 256,\n",
        "        \"output_volume\": 24,\n",
        "        \"kernel_size\": 6,\n",
        "        \"units\": 6,\n",
        "    },\n",
        "    \"block_4\": {\n",
        "        \"input_channels\": 256,\n",
        "        \"output_channels\": 256,\n",
        "        \"output_volume\": 20,\n",
        "        \"kernel_size\": 5,\n",
        "        \"units\": 6,\n",
        "    },\n",
        "    \"block_5\": {\n",
        "        \"input_channels\": 256,\n",
        "        \"output_channels\": 256,\n",
        "        \"output_volume\": 20,\n",
        "        \"kernel_size\": 5,\n",
        "        \"units\": 6,\n",
        "    }\n",
        "}"
      ],
      "metadata": {
        "id": "fBvfkqoNPYqz"
      },
      "execution_count": null,
      "outputs": []
    },
    {
      "cell_type": "code",
      "source": [
        "# Set training parameters\n",
        "device = torch.device(\"cuda\")\n",
        "max_epochs = 60\n",
        "alpha = 0.001\n",
        "\n",
        "# Initialise advanced neural net; parameters\n",
        "advanced_cnn3 = AdvancedCNN(\n",
        "    block_config\n",
        "    ).to(device)\n",
        "advanced_cnn3.apply(weights_init)\n",
        "\n",
        "# Train advanced CNN\n",
        "adv_train_accuracy, adv_test_accuracy, adv_losses = train_network(advanced_cnn3)"
      ],
      "metadata": {
        "colab": {
          "base_uri": "https://localhost:8080/",
          "height": 1000
        },
        "id": "0_w3XJdf7LlK",
        "outputId": "32ca2102-3dca-4272-fd47-a1504a5c7308"
      },
      "execution_count": null,
      "outputs": [
        {
          "metadata": {
            "tags": null
          },
          "name": "stderr",
          "output_type": "stream",
          "text": [
            "1it [04:09, 249.38s/it]"
          ]
        },
        {
          "metadata": {
            "tags": null
          },
          "name": "stdout",
          "output_type": "stream",
          "text": [
            "\n",
            "0.29868\n",
            "0.4368\n",
            "3198.0016326904297\n"
          ]
        },
        {
          "metadata": {
            "tags": null
          },
          "name": "stderr",
          "output_type": "stream",
          "text": [
            "\r2it [08:18, 249.36s/it]"
          ]
        },
        {
          "metadata": {
            "tags": null
          },
          "name": "stdout",
          "output_type": "stream",
          "text": [
            "\n",
            "0.38922\n",
            "0.5602\n",
            "2787.555781841278\n"
          ]
        },
        {
          "metadata": {
            "tags": null
          },
          "name": "stderr",
          "output_type": "stream",
          "text": [
            "\r3it [12:28, 249.39s/it]"
          ]
        },
        {
          "metadata": {
            "tags": null
          },
          "name": "stdout",
          "output_type": "stream",
          "text": [
            "\n",
            "0.44182\n",
            "0.6458\n",
            "2526.5795748233795\n"
          ]
        },
        {
          "metadata": {
            "tags": null
          },
          "name": "stderr",
          "output_type": "stream",
          "text": [
            "\r4it [16:38, 249.74s/it]"
          ]
        },
        {
          "metadata": {
            "tags": null
          },
          "name": "stdout",
          "output_type": "stream",
          "text": [
            "\n",
            "0.46314\n",
            "0.6697\n",
            "2376.1174734830856\n"
          ]
        },
        {
          "metadata": {
            "tags": null
          },
          "name": "stderr",
          "output_type": "stream",
          "text": [
            "\r5it [20:49, 250.12s/it]"
          ]
        },
        {
          "metadata": {
            "tags": null
          },
          "name": "stdout",
          "output_type": "stream",
          "text": [
            "\n",
            "0.50144\n",
            "0.7137\n",
            "2272.247641324997\n"
          ]
        },
        {
          "metadata": {
            "tags": null
          },
          "name": "stderr",
          "output_type": "stream",
          "text": [
            "7it [29:10, 250.46s/it]"
          ]
        },
        {
          "metadata": {
            "tags": null
          },
          "name": "stdout",
          "output_type": "stream",
          "text": [
            "\n",
            "0.53544\n",
            "0.7555\n",
            "2103.59682148695\n"
          ]
        },
        {
          "metadata": {
            "tags": null
          },
          "name": "stderr",
          "output_type": "stream",
          "text": [
            "10it [41:41, 250.25s/it]"
          ]
        },
        {
          "metadata": {
            "tags": null
          },
          "name": "stdout",
          "output_type": "stream",
          "text": [
            "\n",
            "0.56004\n",
            "0.7812\n",
            "1939.9332354664803\n"
          ]
        },
        {
          "metadata": {
            "tags": null
          },
          "name": "stderr",
          "output_type": "stream",
          "text": [
            "13it [54:11, 250.16s/it]"
          ]
        },
        {
          "metadata": {
            "tags": null
          },
          "name": "stdout",
          "output_type": "stream",
          "text": [
            "\n",
            "0.58186\n",
            "0.8173\n",
            "1848.907605290413\n"
          ]
        },
        {
          "metadata": {
            "tags": null
          },
          "name": "stderr",
          "output_type": "stream",
          "text": [
            "16it [1:06:41, 250.08s/it]"
          ]
        },
        {
          "metadata": {
            "tags": null
          },
          "name": "stdout",
          "output_type": "stream",
          "text": [
            "\n",
            "0.60558\n",
            "0.8203\n",
            "1781.2435148358345\n"
          ]
        },
        {
          "metadata": {
            "tags": null
          },
          "name": "stderr",
          "output_type": "stream",
          "text": [
            "19it [1:19:11, 249.96s/it]"
          ]
        },
        {
          "metadata": {
            "tags": null
          },
          "name": "stdout",
          "output_type": "stream",
          "text": [
            "\n",
            "0.61348\n",
            "0.8391\n",
            "1719.5535755455494\n"
          ]
        },
        {
          "metadata": {
            "tags": null
          },
          "name": "stderr",
          "output_type": "stream",
          "text": [
            "22it [1:31:43, 250.33s/it]"
          ]
        },
        {
          "metadata": {
            "tags": null
          },
          "name": "stdout",
          "output_type": "stream",
          "text": [
            "\n",
            "0.62714\n",
            "0.848\n",
            "1678.6204717159271\n"
          ]
        },
        {
          "output_type": "stream",
          "name": "stderr",
          "text": [
            "25it [1:44:15, 250.47s/it]"
          ]
        },
        {
          "output_type": "stream",
          "name": "stdout",
          "text": [
            "\n",
            "0.63368\n",
            "0.8584\n",
            "1650.7460733652115\n"
          ]
        },
        {
          "output_type": "stream",
          "name": "stderr",
          "text": [
            "28it [1:56:46, 250.51s/it]"
          ]
        },
        {
          "output_type": "stream",
          "name": "stdout",
          "text": [
            "\n",
            "0.63572\n",
            "0.8604\n",
            "1603.438297867775\n"
          ]
        },
        {
          "output_type": "stream",
          "name": "stderr",
          "text": [
            "31it [2:09:18, 250.46s/it]"
          ]
        },
        {
          "output_type": "stream",
          "name": "stdout",
          "text": [
            "\n",
            "0.6358\n",
            "0.8602\n",
            "1600.6345259547234\n"
          ]
        },
        {
          "output_type": "stream",
          "name": "stderr",
          "text": [
            "34it [2:21:49, 250.53s/it]"
          ]
        },
        {
          "output_type": "stream",
          "name": "stdout",
          "text": [
            "\n",
            "0.64796\n",
            "0.8692\n",
            "1563.0151388943195\n"
          ]
        },
        {
          "output_type": "stream",
          "name": "stderr",
          "text": [
            "37it [2:34:21, 250.60s/it]"
          ]
        },
        {
          "output_type": "stream",
          "name": "stdout",
          "text": [
            "\n",
            "0.65054\n",
            "0.8738\n",
            "1541.5856222510338\n"
          ]
        },
        {
          "output_type": "stream",
          "name": "stderr",
          "text": [
            "39it [2:46:55, 256.81s/it]\n"
          ]
        },
        {
          "output_type": "stream",
          "name": "stdout",
          "text": [
            "\n",
            "    Final statistics:\n",
            "      Training Accuracy: 0.65062\n",
            "      Test Accuracy: 0.8733\n",
            "      Loss: 1524.4773161709309\n",
            "  \n"
          ]
        },
        {
          "output_type": "display_data",
          "data": {
            "text/plain": [
              "<Figure size 800x800 with 2 Axes>"
            ],
            "image/png": "[encoded data removed]"
          },
          "metadata": {}
        }
      ]
    },
    {
      "cell_type": "markdown",
      "source": [
        "## Attention"
      ],
      "metadata": {
        "id": "rgLgPdOlQyCx"
      }
    },
    {
      "cell_type": "code",
      "source": [
        "def weights_init(net):\n",
        "  \"\"\"\n",
        "  Init layer parameters.\n",
        "\n",
        "  Convolutional layers:\n",
        "    Weights: Kaiming Normal\n",
        "    Bias: 0\n",
        "  Linear Layers:\n",
        "    Weights: Normal distribution with 0.001 standard deviation\n",
        "    Bias: 0\n",
        "  Batch Norm layers:\n",
        "    Weights: 1\n",
        "    Bias: 0\n",
        "  \"\"\"\n",
        "  for m in net.modules():\n",
        "    if isinstance(m, nn.Conv2d):\n",
        "        nn.init.kaiming_normal_(m.weight, mode='fan_out')\n",
        "        if m.bias.any():\n",
        "            nn.init.constant_(m.bias, 0)\n",
        "    elif isinstance(m, nn.BatchNorm2d):\n",
        "        nn.init.constant_(m.weight, 1)\n",
        "        nn.init.constant_(m.bias, 0)\n",
        "    elif isinstance(m, nn.Linear):\n",
        "        nn.init.normal_(m.weight, std=1e-3)\n",
        "        try:\n",
        "          if m.bias.any():\n",
        "              nn.init.constant_(m.bias, 0)\n",
        "        except:\n",
        "          pass"
      ],
      "metadata": {
        "id": "WvUXakS7Tp0z"
      },
      "execution_count": 10,
      "outputs": []
    },
    {
      "cell_type": "code",
      "source": [
        "class Self_Attn(nn.Module):\n",
        "    \"\"\" Self attention Layer\"\"\"\n",
        "    def __init__(self,in_dim):\n",
        "        super(Self_Attn,self).__init__()\n",
        "        self.chanel_in = in_dim\n",
        "        self.activation = \"gelu\"\n",
        "\n",
        "        self.query_conv = nn.Conv2d(\n",
        "            in_channels = in_dim ,\n",
        "            out_channels = in_dim//8 ,\n",
        "            kernel_size= 1\n",
        "            )\n",
        "        self.key_conv = nn.Conv2d(\n",
        "            in_channels = in_dim,\n",
        "            out_channels = in_dim//8 ,\n",
        "            kernel_size= 1\n",
        "            )\n",
        "        self.value_conv = nn.Conv2d(\n",
        "            in_channels = in_dim ,\n",
        "            out_channels = in_dim ,\n",
        "            kernel_size= 1\n",
        "            )\n",
        "        self.gamma = nn.Parameter(torch.zeros(1))\n",
        "\n",
        "        self.softmax  = nn.Softmax(dim=-1)\n",
        "\n",
        "    def forward(self,x):\n",
        "        \"\"\"\n",
        "            inputs :\n",
        "                x : input feature maps( B X C X W X H)\n",
        "            returns :\n",
        "                out : self attention value + input feature\n",
        "                attention: B X N X N (N is Width*Height)\n",
        "        \"\"\"\n",
        "        m_batchsize,C,width ,height = x.size()\n",
        "        proj_query  = self.query_conv(x).view(m_batchsize,-1,width*height).permute(0,2,1) # B X CX(N)\n",
        "        proj_key =  self.key_conv(x).view(m_batchsize,-1,width*height) # B X C x (*W*H)\n",
        "        energy =  torch.bmm(proj_query,proj_key) # transpose check\n",
        "        attention = self.softmax(energy) # BX (N) X (N)\n",
        "        proj_value = self.value_conv(x).view(m_batchsize,-1,width*height) # B X C X N\n",
        "\n",
        "        out = torch.bmm(proj_value,attention.permute(0,2,1) )\n",
        "        out = out.view(m_batchsize,C,width,height)\n",
        "\n",
        "        out = self.gamma*out + x\n",
        "        return out\n",
        "\n",
        "class AttentionBlock(nn.Module):\n",
        "\n",
        "  def __init__(self, in_dim, heads):\n",
        "    super(AttentionBlock, self).__init__()\n",
        "    assert in_dim % heads == 0\n",
        "    self.dims = int(in_dim/heads)\n",
        "    self.heads = heads\n",
        "\n",
        "    self.attentions = nn.ModuleList(\n",
        "        (Self_Attn(self.dims) for _ in range(self.heads))\n",
        "    )\n",
        "\n",
        "  def forward(self, x):\n",
        "    out = []\n",
        "    chunks = x.chunk(self.heads, dim = 1)\n",
        "\n",
        "    for chunk, head in zip(chunks,self.attentions):\n",
        "      out.append(head(chunk))\n",
        "\n",
        "    out = torch.cat(out, dim = 1)\n",
        "\n",
        "    return out"
      ],
      "metadata": {
        "id": "qf0CAt5iQw-0"
      },
      "execution_count": 15,
      "outputs": []
    },
    {
      "cell_type": "code",
      "source": [
        "class AttentionCNN(nn.Module):\n",
        "\n",
        "  \"\"\"\n",
        "  Class defining advanced convolutional architecture based on that specified in\n",
        "  assignment with attention\n",
        "  \"\"\"\n",
        "\n",
        "  def __init__(self, block_config):\n",
        "\n",
        "      \"\"\"\n",
        "      block_config:\n",
        "        Dictionary containing the configuration for each intermediate block\n",
        "      \"\"\"\n",
        "\n",
        "      super(AttentionCNN, self).__init__()\n",
        "\n",
        "      # Set up empty sequential container to iteratively add blocks based on\n",
        "      # config dictionary\n",
        "      self.spine = nn.Sequential()\n",
        "\n",
        "      # Variable to track last intermediate block's output channels\n",
        "      self.int_block_out = None\n",
        "\n",
        "      # Add first intermediate block to expand channels from 3 to 256\n",
        "      self.spine.append(nn.Sequential(\n",
        "        IntermediateBlock(\n",
        "            input_channels = 3,\n",
        "            output_channels = block_config[\"block_1\"][\"input_channels\"],\n",
        "            output_volume = 32,\n",
        "            units = 4,\n",
        "            groups = False\n",
        "        ),\n",
        "        nn.BatchNorm2d(block_config[\"block_1\"][\"input_channels\"])\n",
        "        ))\n",
        "\n",
        "      # Iterate through config dictionary and add each block to spine\n",
        "      for i, block in enumerate(block_config.values()):\n",
        "\n",
        "        self.int_block_out = block[\"output_channels\"]\n",
        "\n",
        "        # Add intermediate block wrapped with the residual class\n",
        "        self.spine.append(\n",
        "            nn.Sequential(\n",
        "              Residual(\n",
        "                  IntermediateBlock(**block)\n",
        "                  ),\n",
        "              nn.BatchNorm2d(self.int_block_out)\n",
        "              )\n",
        "            )\n",
        "\n",
        "        # Add attention block\n",
        "        self.spine.append(\n",
        "            AttentionBlock(self.int_block_out, 4)\n",
        "        )\n",
        "\n",
        "        # Add convolutional layer wrapped with residual layer\n",
        "        self.spine.append(\n",
        "            nn.Sequential(\n",
        "                nn.Conv2d(\n",
        "                    self.int_block_out,\n",
        "                    self.int_block_out,\n",
        "                    kernel_size=1\n",
        "                    ),\n",
        "                nn.GELU(),\n",
        "                nn.BatchNorm2d(self.int_block_out)\n",
        "                )\n",
        "            )\n",
        "\n",
        "      # Add adaptive pooling layer to reduce each channel to a number\n",
        "      # representing one feature\n",
        "      self.spine.append(nn.AdaptiveAvgPool2d((1,1)))\n",
        "\n",
        "      # Add output block\n",
        "      self.spine.append(OutputBlock(self.int_block_out, 1))\n",
        "\n",
        "  def forward(self, x):\n",
        "\n",
        "    return self.spine(x)"
      ],
      "metadata": {
        "id": "b-ZnSG4hRo7m"
      },
      "execution_count": 21,
      "outputs": []
    },
    {
      "cell_type": "code",
      "source": [
        "block_config = {\n",
        "    \"block_1\": {\n",
        "        \"input_channels\": 256,\n",
        "        \"output_channels\": 256,\n",
        "        \"output_volume\": 32,\n",
        "        \"kernel_size\": 8,\n",
        "        \"units\": 4,\n",
        "    },\n",
        "    \"block_2\": {\n",
        "        \"input_channels\": 256,\n",
        "        \"output_channels\": 256,\n",
        "        \"output_volume\": 28,\n",
        "        \"kernel_size\": 7,\n",
        "        \"units\": 4,\n",
        "      },\n",
        "    \"block_3\": {\n",
        "        \"input_channels\": 256,\n",
        "        \"output_channels\": 256,\n",
        "        \"output_volume\": 24,\n",
        "        \"kernel_size\": 6,\n",
        "        \"units\": 4,\n",
        "    },\n",
        "    \"block_4\": {\n",
        "        \"input_channels\": 256,\n",
        "        \"output_channels\": 256,\n",
        "        \"output_volume\": 20,\n",
        "        \"kernel_size\": 5,\n",
        "        \"units\": 4,\n",
        "    },\n",
        "    \"block_5\": {\n",
        "        \"input_channels\": 256,\n",
        "        \"output_channels\": 256,\n",
        "        \"output_volume\": 20,\n",
        "        \"kernel_size\": 5,\n",
        "        \"units\": 4,\n",
        "    }\n",
        "}"
      ],
      "metadata": {
        "id": "DqE9HpWrTS4m"
      },
      "execution_count": 33,
      "outputs": []
    },
    {
      "cell_type": "code",
      "source": [
        "# Set training parameters\n",
        "device = torch.device(\"cuda\")\n",
        "max_epochs = 5\n",
        "alpha = 0.001\n",
        "\n",
        "# Initialise advanced neural net; parameters\n",
        "attn_cnn = AttentionCNN(\n",
        "    block_config\n",
        "    ).to(device)\n",
        "attn_cnn.apply(weights_init)\n",
        "\n",
        "# Train advanced CNN\n",
        "attn_train_accuracy, attn_test_accuracy, attn_losses = train_network(attn_cnn)"
      ],
      "metadata": {
        "colab": {
          "base_uri": "https://localhost:8080/",
          "height": 1000
        },
        "id": "B6bTW_0CTINZ",
        "outputId": "720c1178-3d3c-4c17-94de-169a5a484781"
      },
      "execution_count": 38,
      "outputs": [
        {
          "output_type": "stream",
          "name": "stderr",
          "text": [
            "1it [05:34, 334.11s/it]"
          ]
        },
        {
          "output_type": "stream",
          "name": "stdout",
          "text": [
            "\n",
            "0.27206\n",
            "0.3887\n",
            "3269.978340148926\n"
          ]
        },
        {
          "output_type": "stream",
          "name": "stderr",
          "text": [
            "\r2it [11:07, 333.73s/it]"
          ]
        },
        {
          "output_type": "stream",
          "name": "stdout",
          "text": [
            "\n",
            "0.35482\n",
            "0.5219\n",
            "2862.518919467926\n"
          ]
        },
        {
          "output_type": "stream",
          "name": "stderr",
          "text": [
            "\r3it [16:41, 333.63s/it]"
          ]
        },
        {
          "output_type": "stream",
          "name": "stdout",
          "text": [
            "\n",
            "0.41584\n",
            "0.6053\n",
            "2627.2606152296066\n"
          ]
        },
        {
          "output_type": "stream",
          "name": "stderr",
          "text": [
            "\r4it [22:14, 333.51s/it]"
          ]
        },
        {
          "output_type": "stream",
          "name": "stdout",
          "text": [
            "\n",
            "0.436\n",
            "0.6351\n",
            "2503.1808363199234\n"
          ]
        },
        {
          "output_type": "stream",
          "name": "stderr",
          "text": [
            "5it [27:47, 333.56s/it]"
          ]
        },
        {
          "output_type": "stream",
          "name": "stdout",
          "text": [
            "\n",
            "0.45998\n",
            "0.662\n",
            "2419.7519937753677\n",
            "\n",
            "    Final statistics:\n",
            "      Training Accuracy: 0.45998\n",
            "      Test Accuracy: 0.662\n",
            "      Loss: 2419.7519937753677\n",
            "  \n"
          ]
        },
        {
          "output_type": "stream",
          "name": "stderr",
          "text": [
            "\n"
          ]
        },
        {
          "output_type": "display_data",
          "data": {
            "text/plain": [
              "<Figure size 800x800 with 2 Axes>"
            ],
            "image/png": "[encoded data removed]"
          },
          "metadata": {}
        }
      ]
    },
    {
      "cell_type": "markdown",
      "source": [
        "## Increased channels"
      ],
      "metadata": {
        "id": "K9oTaLkGkPs_"
      }
    },
    {
      "cell_type": "code",
      "source": [
        "block_config = {\n",
        "    \"block_1\": {\n",
        "        \"input_channels\": 512,\n",
        "        \"output_channels\": 512,\n",
        "        \"output_volume\": 32,\n",
        "        \"kernel_size\": 8,\n",
        "        \"units\": 4,\n",
        "    },\n",
        "    \"block_2\": {\n",
        "        \"input_channels\": 512,\n",
        "        \"output_channels\": 512,\n",
        "        \"output_volume\": 28,\n",
        "        \"kernel_size\": 7,\n",
        "        \"units\": 4,\n",
        "      },\n",
        "    \"block_3\": {\n",
        "        \"input_channels\": 512,\n",
        "        \"output_channels\": 512,\n",
        "        \"output_volume\": 24,\n",
        "        \"kernel_size\": 6,\n",
        "        \"units\": 4,\n",
        "    },\n",
        "    \"block_4\": {\n",
        "        \"input_channels\": 512,\n",
        "        \"output_channels\": 512,\n",
        "        \"output_volume\": 20,\n",
        "        \"kernel_size\": 5,\n",
        "        \"units\": 4,\n",
        "    },\n",
        "    \"block_5\": {\n",
        "        \"input_channels\": 512,\n",
        "        \"output_channels\": 512,\n",
        "        \"output_volume\": 20,\n",
        "        \"kernel_size\": 5,\n",
        "        \"units\": 4,\n",
        "    }\n",
        "}"
      ],
      "metadata": {
        "id": "QwNpuVlakOu9"
      },
      "execution_count": 35,
      "outputs": []
    },
    {
      "cell_type": "code",
      "source": [
        "# Set training parameters\n",
        "device = torch.device(\"cuda\")\n",
        "max_epochs = 30\n",
        "alpha = 0.001\n",
        "\n",
        "# Initialise advanced neural net; parameters\n",
        "advanced_cnn4 = AdvancedCNN(\n",
        "    block_config\n",
        "    ).to(device)\n",
        "advanced_cnn4.apply(weights_init)\n",
        "\n",
        "# Train advanced CNN\n",
        "adv_train_accuracy, adv_test_accuracy, adv_losses = train_network(advanced_cnn4)"
      ],
      "metadata": {
        "colab": {
          "base_uri": "https://localhost:8080/",
          "height": 1000
        },
        "id": "osH23fJdkUWQ",
        "outputId": "ce0665a5-7b9b-478b-dcf1-58579913b715"
      },
      "execution_count": 37,
      "outputs": [
        {
          "output_type": "stream",
          "name": "stderr",
          "text": [
            "1it [04:13, 253.60s/it]"
          ]
        },
        {
          "output_type": "stream",
          "name": "stdout",
          "text": [
            "\n",
            "0.28068\n",
            "0.4109\n",
            "3272.254909515381\n"
          ]
        },
        {
          "output_type": "stream",
          "name": "stderr",
          "text": [
            "\r2it [08:27, 254.06s/it]"
          ]
        },
        {
          "output_type": "stream",
          "name": "stdout",
          "text": [
            "\n",
            "0.38548\n",
            "0.565\n",
            "2816.308024406433\n"
          ]
        },
        {
          "output_type": "stream",
          "name": "stderr",
          "text": [
            "\r3it [12:42, 254.40s/it]"
          ]
        },
        {
          "output_type": "stream",
          "name": "stdout",
          "text": [
            "\n",
            "0.44232\n",
            "0.6341\n",
            "2521.8097116947174\n"
          ]
        },
        {
          "output_type": "stream",
          "name": "stderr",
          "text": [
            "\r4it [16:57, 254.42s/it]"
          ]
        },
        {
          "output_type": "stream",
          "name": "stdout",
          "text": [
            "\n",
            "0.47784\n",
            "0.6736\n",
            "2341.948076546192\n"
          ]
        },
        {
          "output_type": "stream",
          "name": "stderr",
          "text": [
            "\r5it [21:11, 254.40s/it]"
          ]
        },
        {
          "output_type": "stream",
          "name": "stdout",
          "text": [
            "\n",
            "0.50548\n",
            "0.7146\n",
            "2227.095902144909\n"
          ]
        },
        {
          "output_type": "stream",
          "name": "stderr",
          "text": [
            "7it [29:40, 254.40s/it]"
          ]
        },
        {
          "output_type": "stream",
          "name": "stdout",
          "text": [
            "\n",
            "0.55164\n",
            "0.7729\n",
            "2041.2666377425194\n"
          ]
        },
        {
          "output_type": "stream",
          "name": "stderr",
          "text": [
            "10it [42:23, 254.27s/it]"
          ]
        },
        {
          "output_type": "stream",
          "name": "stdout",
          "text": [
            "\n",
            "0.58394\n",
            "0.8089\n",
            "1866.3913081288338\n"
          ]
        },
        {
          "output_type": "stream",
          "name": "stderr",
          "text": [
            "13it [55:05, 254.28s/it]"
          ]
        },
        {
          "output_type": "stream",
          "name": "stdout",
          "text": [
            "\n",
            "0.61274\n",
            "0.8362\n",
            "1760.359631717205\n"
          ]
        },
        {
          "output_type": "stream",
          "name": "stderr",
          "text": [
            "16it [1:07:52, 255.15s/it]"
          ]
        },
        {
          "output_type": "stream",
          "name": "stdout",
          "text": [
            "\n",
            "0.6227\n",
            "0.8473\n",
            "1685.1341698765755\n"
          ]
        },
        {
          "output_type": "stream",
          "name": "stderr",
          "text": [
            "19it [1:20:40, 255.71s/it]"
          ]
        },
        {
          "output_type": "stream",
          "name": "stdout",
          "text": [
            "\n",
            "0.6337\n",
            "0.8597\n",
            "1638.2192041873932\n"
          ]
        },
        {
          "output_type": "stream",
          "name": "stderr",
          "text": [
            "22it [1:33:26, 255.53s/it]"
          ]
        },
        {
          "output_type": "stream",
          "name": "stdout",
          "text": [
            "\n",
            "0.64954\n",
            "0.8631\n",
            "1580.192011386156\n"
          ]
        },
        {
          "output_type": "stream",
          "name": "stderr",
          "text": [
            "25it [1:46:13, 255.72s/it]"
          ]
        },
        {
          "output_type": "stream",
          "name": "stdout",
          "text": [
            "\n",
            "0.65496\n",
            "0.8751\n",
            "1537.6900115311146\n"
          ]
        },
        {
          "output_type": "stream",
          "name": "stderr",
          "text": [
            "28it [1:59:00, 255.66s/it]"
          ]
        },
        {
          "output_type": "stream",
          "name": "stdout",
          "text": [
            "\n",
            "0.6585\n",
            "0.8766\n",
            "1506.2397914230824\n"
          ]
        },
        {
          "output_type": "stream",
          "name": "stderr",
          "text": [
            "30it [2:07:31, 255.04s/it]\n"
          ]
        },
        {
          "output_type": "stream",
          "name": "stdout",
          "text": [
            "\n",
            "    Final statistics:\n",
            "      Training Accuracy: 0.66544\n",
            "      Test Accuracy: 0.8855\n",
            "      Loss: 1497.206023722887\n",
            "  \n"
          ]
        },
        {
          "output_type": "display_data",
          "data": {
            "text/plain": [
              "<Figure size 800x800 with 2 Axes>"
            ],
            "image/png": "[encoded data removed]"
          },
          "metadata": {}
        }
      ]
    }
  ],
  "metadata": {
    "accelerator": "GPU",
    "colab": {
      "gpuType": "A100",
      "machine_shape": "hm",
      "provenance": []
    },
    "kernelspec": {
      "display_name": "Python 3",
      "name": "python3"
    },
    "language_info": {
      "name": "python"
    }
  },
  "nbformat": 4,
  "nbformat_minor": 0
}